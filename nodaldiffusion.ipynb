{
 "cells": [
  {
   "cell_type": "code",
   "execution_count": 1331,
   "metadata": {},
   "outputs": [],
   "source": [
    "import numpy as np\n",
    "import pandas as pd\n",
    "import matplotlib.pyplot as plt\n",
    "import numpy.polynomial.legendre as leg"
   ]
  },
  {
   "attachments": {},
   "cell_type": "markdown",
   "metadata": {},
   "source": [
    "Set up classes"
   ]
  },
  {
   "cell_type": "code",
   "execution_count": 1332,
   "metadata": {},
   "outputs": [],
   "source": [
    "class flux:\n",
    "    def __init__(self):\n",
    "        self.moments = np.zeros((2,10))"
   ]
  },
  {
   "cell_type": "code",
   "execution_count": 1333,
   "metadata": {},
   "outputs": [],
   "source": [
    "class fission:\n",
    "    def __init__(self):\n",
    "        fission.k = 1\n",
    "        fission.source = np.ones(10)"
   ]
  },
  {
   "cell_type": "code",
   "execution_count": 1334,
   "metadata": {},
   "outputs": [],
   "source": [
    "class material:\n",
    "    def __init__(self, nuSigmaF, SigmaS, SigmaR, D, fL, fR):\n",
    "        self.nuSigmaF = nuSigmaF\n",
    "        self.SigmaS = SigmaS\n",
    "        self.SigmaR = SigmaR\n",
    "        self.D = D\n",
    "        self.fL = fL\n",
    "        self.fR = fR"
   ]
  },
  {
   "cell_type": "code",
   "execution_count": 1335,
   "metadata": {},
   "outputs": [],
   "source": [
    "class cell:\n",
    "    def __init__(self, left, right, material):\n",
    "        self.left = left\n",
    "        self.right = right\n",
    "        self.material = material"
   ]
  },
  {
   "cell_type": "code",
   "execution_count": 1336,
   "metadata": {},
   "outputs": [],
   "source": [
    "class mesh:\n",
    "    def __init__(self, dx):\n",
    "        self.dx = dx"
   ]
  },
  {
   "cell_type": "code",
   "execution_count": 1337,
   "metadata": {},
   "outputs": [],
   "source": [
    "class lhs:\n",
    "    def __init__(self):\n",
    "        self.thermal = None\n",
    "        self.fast = None"
   ]
  },
  {
   "cell_type": "code",
   "execution_count": 1338,
   "metadata": {},
   "outputs": [],
   "source": [
    "class functions:\n",
    "    def __init__(self):\n",
    "        self.left_thermal = None\n",
    "        self.right_thermal = None\n",
    "        self.left_fast = None\n",
    "        self.left_fast = None"
   ]
  },
  {
   "attachments": {},
   "cell_type": "markdown",
   "metadata": {},
   "source": [
    "Set up functions"
   ]
  },
  {
   "cell_type": "code",
   "execution_count": 1339,
   "metadata": {},
   "outputs": [],
   "source": [
    "def pi_rate(new, old):\n",
    "    rate = np.amax(abs(new - old))\n",
    "    return rate"
   ]
  },
  {
   "cell_type": "code",
   "execution_count": 1340,
   "metadata": {},
   "outputs": [],
   "source": [
    "def pi_convergence(new, old, new_pi_rate, old_pi_rate):\n",
    "    # convergence criteria\n",
    "    epi = 1e-5\n",
    "    \n",
    "    # calculate convergence rate\n",
    "    rho = new_pi_rate / old_pi_rate\n",
    "\n",
    "    if np.amax(abs(new - old)) < epi * (1 - rho):\n",
    "        return True\n",
    "    else:\n",
    "        return False"
   ]
  },
  {
   "cell_type": "code",
   "execution_count": 1341,
   "metadata": {},
   "outputs": [],
   "source": [
    "def k_rate(new, old):\n",
    "    rate = abs(new - old)\n",
    "    return rate"
   ]
  },
  {
   "cell_type": "code",
   "execution_count": 1342,
   "metadata": {
    "tags": []
   },
   "outputs": [],
   "source": [
    "def k_convergence(new, old, new_k_rate, old_k_rate):\n",
    "    # convergence criteria\n",
    "    ek = 1e-5\n",
    "\n",
    "    # calculate convergence rate\n",
    "    rho = new_k_rate / old_k_rate\n",
    "\n",
    "    if abs(new - old) < ek * (1 - rho):\n",
    "        return True\n",
    "    else:\n",
    "        return False"
   ]
  },
  {
   "cell_type": "code",
   "execution_count": 1343,
   "metadata": {},
   "outputs": [],
   "source": [
    "def build_lhs():\n",
    "    # energy groups\n",
    "    for g in range(2):\n",
    "        # read in data\n",
    "        d1 = node1.material.D[g]\n",
    "        d2 = node2.material.D[g]\n",
    "        dx = mesh1.dx\n",
    "        fr1 = node1.material.fR[g]\n",
    "        fl2 = node2.material.fL[g]\n",
    "        SigmaR1 = node1.material.SigmaR[g]\n",
    "        SigmaR2 = node2.material.SigmaR[g]\n",
    "\n",
    "        # build matrix\n",
    "        matrix = np.zeros((10,10))\n",
    "        matrix[0,:] = [0, 1, -3, 6, -10, 0, 0, 0, 0, 0]\n",
    "        matrix[1,:] = [0, 0, 0, 0, 0, 0, 1, 3, 6, 10]\n",
    "        matrix[2,:] = [0, d1/dx, 3*d1/dx, 6*d1/dx, 10*d1/dx, 0, -d2/ dx, 3*d2/dx, -6*d2/dx, 10*d2/dx]\n",
    "        matrix[3,:] = [fr1, fr1, fr1, fr1, fr1, -fl2, fl2, -fl2, fl2, -fl2]\n",
    "        matrix[4,:] = [SigmaR1, 0, -12*d1/(dx*dx), 0, -40*d1/(dx*dx), 0, 0, 0, 0, 0]\n",
    "        matrix[5,:] = [0, 0, 0, 0, 0, SigmaR2, 0, -12*d2/(dx*dx), 0, -40*d2/(dx*dx)]\n",
    "        matrix[6,:] = [0, SigmaR1, 0, -60*d1/(dx*dx), 0, 0, 0, 0, 0, 0]\n",
    "        matrix[7,:] = [0, 0, 0, 0, 0, 0, SigmaR2, 0, -60*d2/(dx*dx), 0]\n",
    "        matrix[8,:] = [0, 0, SigmaR1, 0, -140*d1/(dx*dx), 0, 0, 0, 0, 0]\n",
    "        matrix[9,:] = [0, 0, 0, 0, 0, 0, 0, SigmaR2, 0, -140*d2/(dx*dx)]\n",
    "\n",
    "        # assign to class\n",
    "        if g == 0:\n",
    "            lhs.fast = matrix.copy()\n",
    "        if g == 1:\n",
    "            lhs.thermal = matrix.copy()"
   ]
  },
  {
   "cell_type": "code",
   "execution_count": 1344,
   "metadata": {},
   "outputs": [],
   "source": [
    "def build_rhs(g):\n",
    "    if g == 0: # fast\n",
    "        k = fission.k\n",
    "        source = fission.source\n",
    "        F10 = source[0]\n",
    "        F20 = source[5]\n",
    "        F11 = source[1]\n",
    "        F21 = source[6]\n",
    "        F12 = source[2]\n",
    "        F22 = source[7]\n",
    "        \n",
    "        rhs = np.array((0, 0, 0, 0, 1/k * F10, 1/k * F20, 1/k * F11, 1/k * F21, 1/k * F12, 1/k * F22))\n",
    "    if g == 1: # thermal\n",
    "        SigmaS1 = node1.material.SigmaS[1]\n",
    "        #SigmaS2 = node2.material.SigmaS[1]\n",
    "        f110 = flux.moments[0,0]\n",
    "        f120 = flux.moments[0,5]\n",
    "        f111 = flux.moments[0,1]\n",
    "        f121 = flux.moments[0,6]\n",
    "        f112 = flux.moments[0,2]\n",
    "        f122 = flux.moments[0,7]\n",
    "    \n",
    "        rhs =  np.array((0, 0, 0, 0, SigmaS1 * f110,  SigmaS1 * f120, SigmaS1 * f111, SigmaS1 * f121, SigmaS1 * f112, SigmaS1 * f122))\n",
    "    return rhs"
   ]
  },
  {
   "cell_type": "code",
   "execution_count": 1345,
   "metadata": {},
   "outputs": [],
   "source": [
    "def solve(g, lhs, rhs):\n",
    "    flux.moments[g,:] = np.linalg.solve(lhs, rhs)"
   ]
  },
  {
   "cell_type": "code",
   "execution_count": 1346,
   "metadata": {},
   "outputs": [],
   "source": [
    "def calculate_fission_source():\n",
    "    # get flux values\n",
    "    fast_flux = flux.moments[0,:]\n",
    "    thermal_flux = flux.moments[1,:]\n",
    "\n",
    "    # node 1\n",
    "    nuSigmaF1 = node1.material.nuSigmaF[0]\n",
    "    nuSigmaF2 = node1.material.nuSigmaF[1]\n",
    "    for j in range(5): # node 1\n",
    "        fission.source[j] = nuSigmaF1 * fast_flux[j] + nuSigmaF2 * thermal_flux[j]\n",
    "\n",
    "    # node 2\n",
    "    nuSigmaF1 = node2.material.nuSigmaF[0]\n",
    "    nuSigmaF2 = node2.material.nuSigmaF[1]\n",
    "    for j in range(5,10): \n",
    "        fission.source[j] = nuSigmaF1 * fast_flux[j] + nuSigmaF2 * thermal_flux[j]\n",
    "\n",
    "    first_coef = np.array((fission.source[0], fission.source[5]))\n",
    "    return first_coef"
   ]
  },
  {
   "cell_type": "code",
   "execution_count": 1347,
   "metadata": {},
   "outputs": [],
   "source": [
    "def calculate_k(k_old, f_new, f_old):\n",
    "    dx = mesh1.dx\n",
    "    k_new = k_old * (f_new[0]*dx + f_new[1]*dx)/(f_old[0]*dx + f_old[1]*dx)\n",
    "    fission.k = k_new\n",
    "    return k_new"
   ]
  },
  {
   "cell_type": "code",
   "execution_count": 1348,
   "metadata": {},
   "outputs": [],
   "source": [
    "def calculate_flux_functions():\n",
    "    fast_moments = flux.moments[0,:]\n",
    "    thermal_moments = flux.moments[1,:]\n",
    "    functions.left_thermal = leg.Legendre((thermal_moments[0], thermal_moments[1], thermal_moments[2], thermal_moments[3], thermal_moments[4]), domain=(0,10))\n",
    "    functions.right_thermal = leg.Legendre((thermal_moments[5], thermal_moments[6], thermal_moments[7], thermal_moments[8], thermal_moments[9]), domain=(10,20))\n",
    "    functions.left_fast = leg.Legendre((fast_moments[0], fast_moments[1], fast_moments[2], fast_moments[3], fast_moments[4]), domain=(0,10))\n",
    "    functions.right_fast = leg.Legendre((fast_moments[5], fast_moments[6], fast_moments[7], fast_moments[8], fast_moments[9]), domain=(10,20))"
   ]
  },
  {
   "attachments": {},
   "cell_type": "markdown",
   "metadata": {},
   "source": [
    "Main loops"
   ]
  },
  {
   "cell_type": "code",
   "execution_count": 1349,
   "metadata": {},
   "outputs": [],
   "source": [
    "def power_iteration():\n",
    "    iter = 100\n",
    "    k_old = 1\n",
    "    flux_old = flux.moments.copy()\n",
    "    f_old = fission.source.copy()\n",
    "    old_pi_rate = 1\n",
    "    old_k_rate = 1\n",
    "\n",
    "    for i in range(iter):\n",
    "        # iterate through energy groups\n",
    "        for g in range(2):\n",
    "            if g == 0:\n",
    "                lhs_matrix = lhs.fast\n",
    "            if g == 1:\n",
    "                lhs_matrix = lhs.thermal\n",
    "            #print(lhs_matrix)\n",
    "            rhs = build_rhs(g)\n",
    "            solve(g, lhs_matrix, rhs)\n",
    "            #print(rhs)\n",
    "            #print(flux.moments)\n",
    "        \n",
    "        flux_new = flux.moments.copy()\n",
    "        print(fission.source)\n",
    "        \n",
    "        # calculate fission coefficients and return first coefficient\n",
    "        f_new = calculate_fission_source()\n",
    "\n",
    "        k_new = calculate_k(k_old, f_new, f_old)\n",
    "\n",
    "        new_pi_rate = pi_rate(flux_new, flux_old)\n",
    "        new_k_rate = k_rate(k_new, k_old)\n",
    "\n",
    "        if pi_convergence(flux_new, flux_old, new_pi_rate, old_pi_rate) and k_convergence(k_new, k_old, new_k_rate, old_k_rate):\n",
    "            break\n",
    "        \n",
    "        f_old = f_new.copy()\n",
    "        flux_old = flux_new.copy()\n",
    "        k_old = k_new.copy()\n",
    "        old_pi_rate = new_pi_rate.copy()\n",
    "        old_k_rate = new_k_rate.copy()\n",
    "        \n",
    "        print(\"Power iteration: \", i)\n",
    "    return k_new\n"
   ]
  },
  {
   "cell_type": "code",
   "execution_count": 1350,
   "metadata": {},
   "outputs": [],
   "source": [
    "def main_loop():\n",
    "    build_lhs()\n",
    "    k = power_iteration()\n",
    "    print(\"k:\", k)"
   ]
  },
  {
   "attachments": {},
   "cell_type": "markdown",
   "metadata": {},
   "source": [
    "Materials, homogenized data"
   ]
  },
  {
   "cell_type": "code",
   "execution_count": 1351,
   "metadata": {},
   "outputs": [],
   "source": [
    "a1 = material(np.array([0.0,0.38542026]),\n",
    "              np.array([0.0,0.01495682]),\n",
    "              np.array([0.01495682,0.25694684]),\n",
    "              np.array([1.66666667,0.37627469]),\n",
    "              np.array([0.9956719,1.22608959]),\n",
    "              np.array([0.99567197,1.22608743])\n",
    "              )\n",
    "a2 = material(np.array([0.0,0.21190912]),\n",
    "              np.array([0.0,0.02247835]),\n",
    "              np.array([0.02247835,0.14127275]),\n",
    "              np.array([1.66666667,0.29059016]),\n",
    "              np.array([0.99566395,1.0842443]),\n",
    "              np.array([0.99566395,1.0842443])\n",
    "              )\n",
    "a3 = material(np.array([0.0,0.19134345]),\n",
    "              np.array([0.0,0.02247833]),\n",
    "              np.array([0.02247833,0.1275623]),\n",
    "              np.array([1.66666667,0.2942562]),\n",
    "              np.array([0.99897746,0.98438626]),\n",
    "              np.array([0.9809495,1.334789])\n",
    "              )\n",
    "u1 = material(np.array([0.0,0.14269698]),\n",
    "              np.array([0.0,0.01495638]),\n",
    "              np.array([0.01495682,0.09513132]),\n",
    "              np.array([1.66666667,0.49609889]),\n",
    "              np.array([0.99564336,1.08482132]),\n",
    "              np.array([0.99564336,1.08482089])\n",
    "              )\n",
    "u2 = material(np.array([0.0,0.07352436]),\n",
    "              np.array([0.0,0.02247822]),\n",
    "              np.array([0.02247822,0.04901624]),\n",
    "              np.array([1.66666667,0.31716316]),\n",
    "              np.array([0.99564663,1.02905052]),\n",
    "              np.array([0.99564661,1.02905039])\n",
    "              )"
   ]
  },
  {
   "cell_type": "code",
   "execution_count": 1352,
   "metadata": {},
   "outputs": [],
   "source": [
    "# initialize classes\n",
    "flux = flux()\n",
    "fission = fission()\n",
    "lhs = lhs()\n",
    "\n",
    "# nodes\n",
    "node1 = cell(0,10,a1)\n",
    "node2 = cell(10,20,u1)\n",
    "\n",
    "# mesh\n",
    "mesh1 = mesh(10)"
   ]
  },
  {
   "cell_type": "code",
   "execution_count": 1353,
   "metadata": {},
   "outputs": [
    {
     "name": "stdout",
     "output_type": "stream",
     "text": [
      "[1. 1. 1. 1. 1. 1. 1. 1. 1. 1.]\n",
      "Power iteration:  0\n",
      "[ 1.53019753  0.33422863  0.25519015  0.2586129   0.11203356  1.46980247\n",
      "  0.25184107 -0.10951656  0.04629093 -0.0201037 ]\n",
      "Power iteration:  1\n",
      "[ 1.59649128  0.25125771  0.23464404  0.26431707  0.1133228   1.40350872\n",
      "  0.1848633  -0.11783227  0.05517248 -0.01624014]\n",
      "Power iteration:  2\n",
      "[ 1.61375182  0.23363245  0.22912246  0.26318807  0.11253935  1.38624818\n",
      "  0.17244831 -0.11522625  0.05609971 -0.01633678]\n",
      "Power iteration:  3\n",
      "[ 1.61803836  0.22930208  0.227684    0.26286549  0.1123443   1.38196164\n",
      "  0.16946739 -0.11451715  0.05630327 -0.01637356]\n",
      "Power iteration:  4\n",
      "[ 1.61909965  0.22822945  0.22732576  0.26278492  0.11229617  1.38090035\n",
      "  0.16873219 -0.11434058  0.05635298 -0.01638284]\n",
      "Power iteration:  5\n",
      "[ 1.61936236  0.22796383  0.22723702  0.26276498  0.11228426  1.38063764\n",
      "  0.16855031 -0.11429685  0.05636526 -0.01638513]\n",
      "Power iteration:  6\n",
      "[ 1.61942739  0.22789807  0.22721506  0.26276004  0.11228131  1.38057261\n",
      "  0.1685053  -0.11428602  0.0563683  -0.0163857 ]\n",
      "Power iteration:  7\n",
      "[ 1.61944349  0.22788179  0.22720962  0.26275882  0.11228058  1.38055651\n",
      "  0.16849415 -0.11428334  0.05636905 -0.01638584]\n",
      "Power iteration:  8\n",
      "[ 1.61944747  0.22787776  0.22720827  0.26275851  0.1122804   1.38055253\n",
      "  0.16849139 -0.11428268  0.05636924 -0.01638588]\n",
      "Power iteration:  9\n",
      "[ 1.61944846  0.22787676  0.22720794  0.26275844  0.11228036  1.38055154\n",
      "  0.16849071 -0.11428251  0.05636928 -0.01638589]\n",
      "Power iteration:  10\n",
      "[ 1.6194487   0.22787651  0.22720786  0.26275842  0.11228035  1.3805513\n",
      "  0.16849054 -0.11428247  0.0563693  -0.01638589]\n",
      "k: 1.5\n"
     ]
    }
   ],
   "source": [
    "main_loop()"
   ]
  },
  {
   "cell_type": "code",
   "execution_count": 1354,
   "metadata": {},
   "outputs": [],
   "source": [
    "calculate_flux_functions()"
   ]
  },
  {
   "cell_type": "code",
   "execution_count": 1362,
   "metadata": {},
   "outputs": [
    {
     "data": {
      "text/plain": [
       "<matplotlib.collections.PathCollection at 0x1eb7e59c2b0>"
      ]
     },
     "execution_count": 1362,
     "metadata": {},
     "output_type": "execute_result"
    },
    {
     "data": {
      "image/png": "[encoded data removed]",
      "text/plain": [
       "<Figure size 640x480 with 1 Axes>"
      ]
     },
     "metadata": {},
     "output_type": "display_data"
    }
   ],
   "source": [
    "left = functions.left_thermal\n",
    "right = functions.right_thermal\n",
    "x1 = np.linspace(0,10,100)\n",
    "x2 = np.linspace(10,20,100)\n",
    "\n",
    "plt.scatter(x1,left(x1), s=4)\n",
    "plt.scatter(x2,right(x2), s=4)"
   ]
  },
  {
   "cell_type": "code",
   "execution_count": 1361,
   "metadata": {},
   "outputs": [
    {
     "data": {
      "text/plain": [
       "<matplotlib.collections.PathCollection at 0x1eb7e537c40>"
      ]
     },
     "execution_count": 1361,
     "metadata": {},
     "output_type": "execute_result"
    },
    {
     "data": {
      "image/png": "[encoded data removed]",
      "text/plain": [
       "<Figure size 640x480 with 1 Axes>"
      ]
     },
     "metadata": {},
     "output_type": "display_data"
    }
   ],
   "source": [
    "left = functions.left_fast\n",
    "right = functions.right_fast\n",
    "\n",
    "plt.scatter(x1,left(x1), s=4)\n",
    "plt.scatter(x2,right(x2), s=4)"
   ]
  },
  {
   "cell_type": "code",
   "execution_count": null,
   "metadata": {},
   "outputs": [],
   "source": []
  }
 ],
 "metadata": {
  "kernelspec": {
   "display_name": "Python 3",
   "language": "python",
   "name": "python3"
  },
  "language_info": {
   "codemirror_mode": {
    "name": "ipython",
    "version": 3
   },
   "file_extension": ".py",
   "mimetype": "text/x-python",
   "name": "python",
   "nbconvert_exporter": "python",
   "pygments_lexer": "ipython3",
   "version": "3.9.5"
  },
  "orig_nbformat": 4
 },
 "nbformat": 4,
 "nbformat_minor": 2
}
