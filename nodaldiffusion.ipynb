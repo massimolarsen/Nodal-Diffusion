{
 "cells": [
  {
   "cell_type": "code",
   "execution_count": 785,
   "metadata": {},
   "outputs": [],
   "source": [
    "import numpy as np\n",
    "import pandas as pd\n",
    "import matplotlib.pyplot as plt\n",
    "import numpy.polynomial.legendre as leg"
   ]
  },
  {
   "attachments": {},
   "cell_type": "markdown",
   "metadata": {},
   "source": [
    "Set up classes"
   ]
  },
  {
   "cell_type": "code",
   "execution_count": 786,
   "metadata": {},
   "outputs": [],
   "source": [
    "class flux:\n",
    "    def __init__(self):\n",
    "        self.moments = np.zeros((2,10))"
   ]
  },
  {
   "cell_type": "code",
   "execution_count": 787,
   "metadata": {},
   "outputs": [],
   "source": [
    "class fission:\n",
    "    def __init__(self):\n",
    "        fission.k = 1\n",
    "        fission.source = np.ones(10)"
   ]
  },
  {
   "cell_type": "code",
   "execution_count": 788,
   "metadata": {},
   "outputs": [],
   "source": [
    "class material:\n",
    "    def __init__(self, nuSigmaF, SigmaS, SigmaR, D, fL, fR):\n",
    "        self.nuSigmaF = nuSigmaF\n",
    "        self.SigmaS = SigmaS\n",
    "        self.SigmaR = SigmaR\n",
    "        self.D = D\n",
    "        self.fL = fL\n",
    "        self.fR = fR"
   ]
  },
  {
   "cell_type": "code",
   "execution_count": 789,
   "metadata": {},
   "outputs": [],
   "source": [
    "class cell:\n",
    "    def __init__(self, left, right, material):\n",
    "        self.left = left\n",
    "        self.right = right\n",
    "        self.material = material"
   ]
  },
  {
   "cell_type": "code",
   "execution_count": 790,
   "metadata": {},
   "outputs": [],
   "source": [
    "class mesh:\n",
    "    def __init__(self, dx):\n",
    "        self.dx = dx"
   ]
  },
  {
   "cell_type": "code",
   "execution_count": 791,
   "metadata": {},
   "outputs": [],
   "source": [
    "class lhs:\n",
    "    def __init__(self):\n",
    "        self.thermal = None\n",
    "        self.fast = None"
   ]
  },
  {
   "cell_type": "code",
   "execution_count": 792,
   "metadata": {},
   "outputs": [],
   "source": [
    "class functions:\n",
    "    def __init__(self):\n",
    "        self.left_thermal = None\n",
    "        self.right_thermal = None\n",
    "        self.left_fast = None\n",
    "        self.left_fast = None"
   ]
  },
  {
   "attachments": {},
   "cell_type": "markdown",
   "metadata": {},
   "source": [
    "Set up functions"
   ]
  },
  {
   "cell_type": "code",
   "execution_count": 793,
   "metadata": {},
   "outputs": [],
   "source": [
    "def pi_rate(new, old):\n",
    "    rate = np.amax(abs(new - old))\n",
    "    return rate"
   ]
  },
  {
   "cell_type": "code",
   "execution_count": 794,
   "metadata": {},
   "outputs": [],
   "source": [
    "def pi_convergence(new, old, new_pi_rate, old_pi_rate):\n",
    "    # convergence criteria\n",
    "    epi = 1e-5\n",
    "    \n",
    "    # calculate convergence rate\n",
    "    rho = new_pi_rate / old_pi_rate\n",
    "\n",
    "    if np.amax(abs(new - old)) < epi * (1 - rho):\n",
    "        return True\n",
    "    else:\n",
    "        return False"
   ]
  },
  {
   "cell_type": "code",
   "execution_count": 795,
   "metadata": {},
   "outputs": [],
   "source": [
    "def k_rate(new, old):\n",
    "    rate = abs(new - old)\n",
    "    return rate"
   ]
  },
  {
   "cell_type": "code",
   "execution_count": 796,
   "metadata": {
    "tags": []
   },
   "outputs": [],
   "source": [
    "def k_convergence(new, old, new_k_rate, old_k_rate):\n",
    "    # convergence criteria\n",
    "    ek = 1e-5\n",
    "\n",
    "    # calculate convergence rate\n",
    "    rho = new_k_rate / old_k_rate\n",
    "\n",
    "    if abs(new - old) < ek * (1 - rho):\n",
    "        return True\n",
    "    else:\n",
    "        return False"
   ]
  },
  {
   "cell_type": "code",
   "execution_count": 797,
   "metadata": {},
   "outputs": [],
   "source": [
    "def build_lhs():\n",
    "    # energy groups\n",
    "    for g in range(2):\n",
    "        # read in data\n",
    "        d1 = node1.material.D[g]\n",
    "        d2 = node2.material.D[g]\n",
    "        dx = mesh1.dx\n",
    "        fr1 = node1.material.fR[g]\n",
    "        fl2 = node2.material.fL[g]\n",
    "        SigmaR1 = node1.material.SigmaR[g]\n",
    "        SigmaR2 = node2.material.SigmaR[g]\n",
    "\n",
    "        # build matrix\n",
    "        matrix = np.zeros((10,10))\n",
    "        matrix[0,:] = [0, 1, -3, 6, -10, 0, 0, 0, 0, 0]\n",
    "        matrix[1,:] = [0, 0, 0, 0, 0, 0,1, 3, 6, 10]\n",
    "        matrix[2,:] = [0, d1/dx, 3*d1/dx, 6*d1/dx, 10*d1/dx, 0, -d2/ dx, 3*d2/dx, -6*d2/dx, 10*d2/dx]\n",
    "        matrix[3,:] = [fr1, fr1, fr1, fr1, fr1, -fl2, fl2, -fl2, fl2, -fl2]\n",
    "        matrix[4,:] = [SigmaR1, 0, -12*d1/(dx*dx), 0, -40*d1/(dx*dx), 0, 0, 0, 0, 0]\n",
    "        matrix[5,:] = [0, 0, 0, 0, 0, SigmaR2, 0, -12*d2/(dx*dx), 0, -40*d2/(dx*dx)]\n",
    "        matrix[6,:] = [0, SigmaR1, 0, -60*d1/(dx*dx), 0, 0, 0, 0, 0, 0]\n",
    "        matrix[7,:] = [0, 0, 0, 0, 0, 0, SigmaR2, 0, -60*d2/(dx*dx), 0]\n",
    "        matrix[8,:] = [0, 0, SigmaR1, 0, -140*d1/(dx*dx), 0, 0, 0, 0, 0]\n",
    "        matrix[9,:] = [0, 0, 0, 0, 0, 0, 0, SigmaR2, 0, -140*d2/(dx*dx)]\n",
    "\n",
    "        # assign to class\n",
    "        if g == 0:\n",
    "            lhs.fast = matrix.copy()\n",
    "        if g == 1:\n",
    "            lhs.thermal = matrix.copy()"
   ]
  },
  {
   "cell_type": "code",
   "execution_count": 798,
   "metadata": {},
   "outputs": [],
   "source": [
    "def build_rhs(g):\n",
    "    if g == 0: # fast\n",
    "        k = fission.k\n",
    "        source = fission.source\n",
    "        F10 = source[0]\n",
    "        F20 = source[5]\n",
    "        F11 = source[1]\n",
    "        F21 = source[6]\n",
    "        F12 = source[2]\n",
    "        F22 = source[7]\n",
    "        \n",
    "        rhs = np.array((0, 0, 0, 0, 1/k * F10, 1/k * F20, 1/k * F11, 1/k * F21, 1/k * F12, 1/k * F22))\n",
    "    if g == 1: # thermal\n",
    "        SigmaS = node1.material.SigmaS[1]\n",
    "        f110 = flux.moments[0,0]\n",
    "        f120 = flux.moments[0,5]\n",
    "        f111 = flux.moments[0,1]\n",
    "        f121 = flux.moments[0,6]\n",
    "        f112 = flux.moments[0,2]\n",
    "        f122 = flux.moments[0,7]\n",
    "    \n",
    "        rhs =  np.array((0, 0, 0, 0, SigmaS * f110,  SigmaS * f120, SigmaS * f111, SigmaS * f121, SigmaS * f112, SigmaS * f122))\n",
    "    return rhs"
   ]
  },
  {
   "cell_type": "code",
   "execution_count": 799,
   "metadata": {},
   "outputs": [],
   "source": [
    "def solve(g, lhs, rhs):\n",
    "    flux.moments[g,:] = np.linalg.solve(lhs, rhs)"
   ]
  },
  {
   "cell_type": "code",
   "execution_count": 800,
   "metadata": {},
   "outputs": [],
   "source": [
    "def calculate_fission_source():\n",
    "    # get flux values\n",
    "    fast_flux = flux.moments[0,:]\n",
    "    thermal_flux = flux.moments[1,:]\n",
    "\n",
    "    # node 1\n",
    "    nuSigmaF1 = node1.material.nuSigmaF[1]\n",
    "    nuSigmaF2 = node1.material.nuSigmaF[0]\n",
    "    for j in range(5): # node 1\n",
    "        fission.source[j] = nuSigmaF1 * fast_flux[j] + nuSigmaF2 * thermal_flux[j]\n",
    "\n",
    "    # node 2\n",
    "    nuSigmaF1 = node2.material.nuSigmaF[1]\n",
    "    nuSigmaF2 = node2.material.nuSigmaF[0]\n",
    "    for j in range(5,10): \n",
    "        fission.source[j] = nuSigmaF1 * fast_flux[j] + nuSigmaF2 * thermal_flux[j]\n",
    "        \n",
    "    first_coef = np.array((fission.source[0], fission.source[5]))\n",
    "    return first_coef"
   ]
  },
  {
   "cell_type": "code",
   "execution_count": 801,
   "metadata": {},
   "outputs": [],
   "source": [
    "def calculate_k(k_old, f_new, f_old):\n",
    "    dx = mesh1.dx\n",
    "    k_new = k_old * (f_new[0]*dx + f_new[1]*dx)/(f_old[0]*dx + f_old[1]*dx)\n",
    "    fission.k = k_new\n",
    "    return k_new"
   ]
  },
  {
   "cell_type": "code",
   "execution_count": 802,
   "metadata": {},
   "outputs": [],
   "source": [
    "def calculate_flux_functions():\n",
    "    fast_moments = flux.moments[0,:]\n",
    "    thermal_moments = flux.moments[1,:]\n",
    "    functions.left_thermal = leg.Legendre((thermal_moments[0], thermal_moments[1], thermal_moments[2], thermal_moments[3], thermal_moments[4]), domain=(0,10))\n",
    "    functions.right_thermal = leg.Legendre((thermal_moments[5], thermal_moments[6], thermal_moments[7], thermal_moments[8], thermal_moments[9]), domain=(10,20))\n",
    "    functions.left_fast = leg.Legendre((fast_moments[0], fast_moments[1], fast_moments[2], fast_moments[3], fast_moments[4]), domain=(0,10))\n",
    "    functions.right_fast = leg.Legendre((fast_moments[5], fast_moments[6], fast_moments[7], fast_moments[8], fast_moments[9]), domain=(10,20))"
   ]
  },
  {
   "attachments": {},
   "cell_type": "markdown",
   "metadata": {},
   "source": [
    "Main loops"
   ]
  },
  {
   "cell_type": "code",
   "execution_count": 803,
   "metadata": {},
   "outputs": [],
   "source": [
    "def power_iteration():\n",
    "    iter = 100\n",
    "    k_old = 1\n",
    "    flux_old = flux.moments.copy()\n",
    "    f_old = fission.source.copy()\n",
    "    old_pi_rate = 1\n",
    "    old_k_rate = 1\n",
    "\n",
    "    for i in range(iter):\n",
    "        # iterate through energy groups\n",
    "        for g in range(2):\n",
    "            if g == 0:\n",
    "                lhs_matrix = lhs.fast\n",
    "            if g == 1:\n",
    "                lhs_matrix = lhs.thermal\n",
    "            #print(lhs_matrix)\n",
    "            rhs = build_rhs(g)\n",
    "            solve(g, lhs_matrix, rhs)\n",
    "            #print(rhs)\n",
    "            #print(flux.moments)\n",
    "        \n",
    "        flux_new = flux.moments.copy()\n",
    "        print(fission.source)\n",
    "        \n",
    "        # calculate fission coefficients and return first coefficient\n",
    "        f_new = calculate_fission_source()\n",
    "\n",
    "        k_new = calculate_k(k_old, f_new, f_old)\n",
    "\n",
    "        new_pi_rate = pi_rate(flux_new, flux_old)\n",
    "        new_k_rate = k_rate(k_new, k_old)\n",
    "\n",
    "        if pi_convergence(flux_new, flux_old, new_pi_rate, old_pi_rate) and k_convergence(k_new, k_old, new_k_rate, old_k_rate):\n",
    "            break\n",
    "        \n",
    "        f_old = f_new.copy()\n",
    "        flux_old = flux_new.copy()\n",
    "        k_old = k_new.copy()\n",
    "        old_pi_rate = new_pi_rate.copy()\n",
    "        old_k_rate = new_k_rate.copy()\n",
    "        \n",
    "        print(\"Power iteration: \", i)\n",
    "    return k_new\n"
   ]
  },
  {
   "cell_type": "code",
   "execution_count": 804,
   "metadata": {},
   "outputs": [],
   "source": [
    "def main_loop():\n",
    "    build_lhs()\n",
    "    k = power_iteration()\n",
    "    print(\"k:\", k)"
   ]
  },
  {
   "attachments": {},
   "cell_type": "markdown",
   "metadata": {},
   "source": [
    "Materials, homogenized data"
   ]
  },
  {
   "cell_type": "code",
   "execution_count": 805,
   "metadata": {},
   "outputs": [],
   "source": [
    "a1 = material(np.array([0.0,0.38542026]),\n",
    "              np.array([0.0,0.01495682]),\n",
    "              np.array([0.01495682,0.25694684]),\n",
    "              np.array([1.66666667,0.37627469]),\n",
    "              np.array([0.9956719,1.22608959]),\n",
    "              np.array([0.99567197,1.22608743])\n",
    "              )\n",
    "a2 = material(np.array([0.0,0.21190912]),\n",
    "              np.array([0.0,0.02247835]),\n",
    "              np.array([0.02247835,0.14127275]),\n",
    "              np.array([1.66666667,0.37627469]),\n",
    "              np.array([0.99566395,1.0842443]),\n",
    "              np.array([0.99566395,1.0842443])\n",
    "              )\n",
    "a3 = material(np.array([0.0,0.19134345]),\n",
    "              np.array([0.0,0.02247833]),\n",
    "              np.array([0.02247833,0.1275623]),\n",
    "              np.array([1.66666667,0.37627469]),\n",
    "              np.array([0.99897746,0.98438626]),\n",
    "              np.array([0.9809495,1.334789])\n",
    "              )\n",
    "u1 = material(np.array([0.0,0.14269698]),\n",
    "              np.array([0.0,0.01495638]),\n",
    "              np.array([0.01495682,0.09513132]),\n",
    "              np.array([1.66666667,0.49609889]),\n",
    "              np.array([0.99564336,1.08482132]),\n",
    "              np.array([0.99564336,1.08482089])\n",
    "              )\n",
    "u2 = material(np.array([0.0,0.07352436]),\n",
    "              np.array([0.0,0.02247822]),\n",
    "              np.array([0.01495682,0.25694684]),\n",
    "              np.array([1.66666667,0.31716316]),\n",
    "              np.array([0.99564663,1.02905052]),\n",
    "              np.array([0.99564661,1.02905039])\n",
    "              )"
   ]
  },
  {
   "cell_type": "code",
   "execution_count": 806,
   "metadata": {},
   "outputs": [],
   "source": [
    "# initialize classes\n",
    "flux = flux()\n",
    "fission = fission()\n",
    "lhs = lhs()\n",
    "\n",
    "# nodes\n",
    "node1 = cell(0,10,a1)\n",
    "node2 = cell(10,20,u1)\n",
    "\n",
    "# mesh\n",
    "mesh1 = mesh(10)"
   ]
  },
  {
   "cell_type": "code",
   "execution_count": 807,
   "metadata": {},
   "outputs": [
    {
     "name": "stdout",
     "output_type": "stream",
     "text": [
      "[1. 1. 1. 1. 1. 1. 1. 1. 1. 1.]\n",
      "Power iteration:  0\n",
      "[24.38985507  1.83817796  0.43811136 -0.35792696 -0.16237179 10.05115681\n",
      "  0.68056216  0.23697131 -0.13251793 -0.05963685]\n",
      "Power iteration:  1\n",
      "[ 2.80301175e+01 -1.51663988e+00 -6.06235764e-01 -6.38252368e-02\n",
      " -8.08840110e-03  8.70339567e+00 -6.14332238e-01  2.32275439e-01\n",
      " -1.48279056e-02  6.47335466e-04]\n",
      "Power iteration:  2\n",
      "[ 2.88428962e+01 -2.33360694e+00 -7.85415210e-01 -3.07715691e-03\n",
      "  4.17574872e-04  8.40247463e+00 -8.25390463e-01  2.86726295e-01\n",
      " -7.57228049e-03  1.06452611e-03]\n",
      "Power iteration:  3\n",
      "[ 2.90103419e+01 -2.51009529e+00 -8.20872744e-01  1.07539327e-02\n",
      "  1.70465360e-03  8.34047996e+00 -8.65700731e-01  2.98573070e-01\n",
      " -6.62354663e-03  9.72280017e-04]\n",
      "Power iteration:  4\n",
      "[ 2.90444467e+01 -2.54674660e+00 -8.28001749e-01  1.37117302e-02\n",
      "  1.95290244e-03  8.32785308e+00 -8.73721048e-01  3.00975251e-01\n",
      " -6.45335421e-03  9.51542206e-04]\n",
      "Power iteration:  5\n",
      "[ 2.90513877e+01 -2.55426256e+00 -8.29444820e-01  1.43255136e-02\n",
      "  2.00249800e-03  8.32528329e+00 -8.75339680e-01  3.01462250e-01\n",
      " -6.42011806e-03  9.47363974e-04]\n",
      "Power iteration:  6\n",
      "[ 2.90528008e+01 -2.55579727e+00 -8.29737972e-01  1.44514219e-02\n",
      "  2.01251773e-03  8.32476009e+00 -8.75668184e-01  3.01561233e-01\n",
      " -6.41345248e-03  9.46520001e-04]\n",
      "Power iteration:  7\n",
      "[ 2.90530886e+01 -2.55611017e+00 -8.29797620e-01  1.44771381e-02\n",
      "  2.01455184e-03  8.32465354e+00 -8.75735004e-01  3.01581378e-01\n",
      " -6.41210275e-03  9.46348712e-04]\n",
      "Power iteration:  8\n",
      "[ 2.90531472e+01 -2.55617393e+00 -8.29809765e-01  1.44823818e-02\n",
      "  2.01496563e-03  8.32463184e+00 -8.75748607e-01  3.01585480e-01\n",
      " -6.41182844e-03  9.46313871e-04]\n",
      "Power iteration:  9\n",
      "[ 2.90531591e+01 -2.55618692e+00 -8.29812239e-01  1.44834504e-02\n",
      "  2.01504987e-03  8.32462742e+00 -8.75751377e-01  3.01586315e-01\n",
      " -6.41177262e-03  9.46306778e-04]\n",
      "k: 18.688894047564826\n"
     ]
    }
   ],
   "source": [
    "main_loop()"
   ]
  },
  {
   "cell_type": "code",
   "execution_count": 808,
   "metadata": {},
   "outputs": [],
   "source": [
    "calculate_flux_functions()"
   ]
  },
  {
   "cell_type": "code",
   "execution_count": 809,
   "metadata": {},
   "outputs": [
    {
     "data": {
      "text/plain": [
       "[<matplotlib.lines.Line2D at 0x1eb790452e0>]"
      ]
     },
     "execution_count": 809,
     "metadata": {},
     "output_type": "execute_result"
    },
    {
     "data": {
      "image/png": "[encoded data removed]",
      "text/plain": [
       "<Figure size 640x480 with 1 Axes>"
      ]
     },
     "metadata": {},
     "output_type": "display_data"
    }
   ],
   "source": [
    "left = functions.left_thermal\n",
    "right = functions.right_thermal\n",
    "x1 = np.linspace(0,10,100)\n",
    "x2 = np.linspace(10,20,100)\n",
    "\n",
    "plt.plot(x1,left(x1))\n",
    "plt.plot(x2,right(x2))"
   ]
  },
  {
   "cell_type": "code",
   "execution_count": 810,
   "metadata": {},
   "outputs": [
    {
     "data": {
      "text/plain": [
       "[<matplotlib.lines.Line2D at 0x1eb79094d00>]"
      ]
     },
     "execution_count": 810,
     "metadata": {},
     "output_type": "execute_result"
    },
    {
     "data": {
      "image/png": "[encoded data removed]",
      "text/plain": [
       "<Figure size 640x480 with 1 Axes>"
      ]
     },
     "metadata": {},
     "output_type": "display_data"
    }
   ],
   "source": [
    "left = functions.left_fast\n",
    "right = functions.right_fast\n",
    "\n",
    "plt.plot(x1,left(x1))\n",
    "plt.plot(x2,right(x2))"
   ]
  },
  {
   "cell_type": "code",
   "execution_count": null,
   "metadata": {},
   "outputs": [],
   "source": []
  }
 ],
 "metadata": {
  "kernelspec": {
   "display_name": "Python 3",
   "language": "python",
   "name": "python3"
  },
  "language_info": {
   "codemirror_mode": {
    "name": "ipython",
    "version": 3
   },
   "file_extension": ".py",
   "mimetype": "text/x-python",
   "name": "python",
   "nbconvert_exporter": "python",
   "pygments_lexer": "ipython3",
   "version": "3.9.5"
  },
  "orig_nbformat": 4
 },
 "nbformat": 4,
 "nbformat_minor": 2
}
