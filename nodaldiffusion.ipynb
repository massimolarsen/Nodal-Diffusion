{
 "cells": [
  {
   "cell_type": "code",
   "execution_count": 289,
   "metadata": {},
   "outputs": [],
   "source": [
    "import numpy as np\n",
    "import pandas as pd\n",
    "import matplotlib.pyplot as plt\n",
    "import numpy.polynomial.legendre as leg"
   ]
  },
  {
   "attachments": {},
   "cell_type": "markdown",
   "metadata": {},
   "source": [
    "Set up classes"
   ]
  },
  {
   "cell_type": "code",
   "execution_count": 290,
   "metadata": {},
   "outputs": [],
   "source": [
    "class flux:\n",
    "    def __init__(self):\n",
    "        self.moments = np.zeros((2,10))"
   ]
  },
  {
   "cell_type": "code",
   "execution_count": 291,
   "metadata": {},
   "outputs": [],
   "source": [
    "class fission:\n",
    "    def __init__(self):\n",
    "        fission.k = 1\n",
    "        fission.source = np.ones(10)"
   ]
  },
  {
   "cell_type": "code",
   "execution_count": 292,
   "metadata": {},
   "outputs": [],
   "source": [
    "class material:\n",
    "    def __init__(self, nuSigmaF, SigmaS, SigmaR, D, fL, fR):\n",
    "        self.nuSigmaF = nuSigmaF\n",
    "        self.SigmaS = SigmaS\n",
    "        self.SigmaR = SigmaR\n",
    "        self.D = D\n",
    "        self.fL = fL\n",
    "        self.fR = fR"
   ]
  },
  {
   "cell_type": "code",
   "execution_count": 293,
   "metadata": {},
   "outputs": [],
   "source": [
    "class cell:\n",
    "    def __init__(self, left, right, material):\n",
    "        self.left = left\n",
    "        self.right = right\n",
    "        self.material = material"
   ]
  },
  {
   "cell_type": "code",
   "execution_count": 294,
   "metadata": {},
   "outputs": [],
   "source": [
    "class mesh:\n",
    "    def __init__(self, dx):\n",
    "        self.dx = dx"
   ]
  },
  {
   "cell_type": "code",
   "execution_count": 295,
   "metadata": {},
   "outputs": [],
   "source": [
    "class lhs:\n",
    "    def __init__(self):\n",
    "        self.thermal = None\n",
    "        self.fast = None"
   ]
  },
  {
   "cell_type": "code",
   "execution_count": 296,
   "metadata": {},
   "outputs": [],
   "source": [
    "class functions:\n",
    "    def __init__(self):\n",
    "        self.left_thermal = None\n",
    "        self.right_thermal = None\n",
    "        self.left_fast = None\n",
    "        self.left_fast = None"
   ]
  },
  {
   "attachments": {},
   "cell_type": "markdown",
   "metadata": {},
   "source": [
    "Set up functions"
   ]
  },
  {
   "cell_type": "code",
   "execution_count": 297,
   "metadata": {},
   "outputs": [],
   "source": [
    "def pi_rate(new, old):\n",
    "    rate = np.amax(abs(new - old))\n",
    "    return rate"
   ]
  },
  {
   "cell_type": "code",
   "execution_count": 298,
   "metadata": {},
   "outputs": [],
   "source": [
    "def pi_convergence(new, old, new_pi_rate, old_pi_rate):\n",
    "    # convergence criteria\n",
    "    epi = 1e-5\n",
    "    \n",
    "    # calculate convergence rate\n",
    "    rho = new_pi_rate / old_pi_rate\n",
    "\n",
    "    if np.amax(abs(new - old)) < epi * (1 - rho):\n",
    "        return True\n",
    "    else:\n",
    "        return False"
   ]
  },
  {
   "cell_type": "code",
   "execution_count": 299,
   "metadata": {},
   "outputs": [],
   "source": [
    "def k_rate(new, old):\n",
    "    rate = abs(new - old)\n",
    "    return rate"
   ]
  },
  {
   "cell_type": "code",
   "execution_count": 300,
   "metadata": {
    "tags": []
   },
   "outputs": [],
   "source": [
    "def k_convergence(new, old, new_k_rate, old_k_rate):\n",
    "    # convergence criteria\n",
    "    ek = 1e-5\n",
    "\n",
    "    # calculate convergence rate\n",
    "    rho = new_k_rate / old_k_rate\n",
    "\n",
    "    if abs(new - old) < ek * (1 - rho):\n",
    "        return True\n",
    "    else:\n",
    "        return False"
   ]
  },
  {
   "cell_type": "code",
   "execution_count": 301,
   "metadata": {},
   "outputs": [],
   "source": [
    "def build_lhs():\n",
    "    # energy groups\n",
    "    for g in range(2):\n",
    "        # read in data\n",
    "        d1 = node1.material.D[g]\n",
    "        d2 = node2.material.D[g]\n",
    "        dx = mesh1.dx\n",
    "        fr1 = node1.material.fR[g]\n",
    "        fl2 = node2.material.fL[g]\n",
    "        SigmaR1 = node1.material.SigmaR[g]\n",
    "        SigmaR2 = node2.material.SigmaR[g]\n",
    "\n",
    "        # build matrix\n",
    "        matrix = np.zeros((10,10))\n",
    "        matrix[0,:] = [0, 1, -3, 6, -10, 0, 0, 0, 0, 0]\n",
    "        matrix[1,:] = [0, 0, 0, 0, 0, 0, 1, 3, 6, 10]\n",
    "        matrix[2,:] = [0, d1/dx, 3*d1/dx, 6*d1/dx, 10*d1/dx, 0, -d2/ dx, 3*d2/dx, -6*d2/dx, 10*d2/dx]\n",
    "        matrix[3,:] = [fr1, fr1, fr1, fr1, fr1, -fl2, fl2, -fl2, fl2, -fl2]\n",
    "        matrix[4,:] = [SigmaR1, 0, -12*d1/(dx*dx), 0, -40*d1/(dx*dx), 0, 0, 0, 0, 0]\n",
    "        matrix[5,:] = [0, 0, 0, 0, 0, SigmaR2, 0, -12*d2/(dx*dx), 0, -40*d2/(dx*dx)]\n",
    "        matrix[6,:] = [0, SigmaR1, 0, -60*d1/(dx*dx), 0, 0, 0, 0, 0, 0]\n",
    "        matrix[7,:] = [0, 0, 0, 0, 0, 0, SigmaR2, 0, -60*d2/(dx*dx), 0]\n",
    "        matrix[8,:] = [0, 0, SigmaR1, 0, -140*d1/(dx*dx), 0, 0, 0, 0, 0]\n",
    "        matrix[9,:] = [0, 0, 0, 0, 0, 0, 0, SigmaR2, 0, -140*d2/(dx*dx)]\n",
    "\n",
    "        # assign to class\n",
    "        if g == 0:\n",
    "            lhs1.fast = matrix.copy()\n",
    "        if g == 1:\n",
    "            lhs1.thermal = matrix.copy()"
   ]
  },
  {
   "cell_type": "code",
   "execution_count": 302,
   "metadata": {},
   "outputs": [],
   "source": [
    "def build_rhs(g):\n",
    "    if g == 0: # fast\n",
    "        k = fission1.k\n",
    "        source = fission1.source\n",
    "        F10 = source[0]\n",
    "        F20 = source[5]\n",
    "        F11 = source[1]\n",
    "        F21 = source[6]\n",
    "        F12 = source[2]\n",
    "        F22 = source[7]\n",
    "        \n",
    "        rhs = np.array((0, 0, 0, 0, 1/k * F10, 1/k * F20, 1/k * F11, 1/k * F21, 1/k * F12, 1/k * F22))\n",
    "    if g == 1: # thermal\n",
    "        SigmaS1 = node1.material.SigmaS[1]\n",
    "        #SigmaS2 = node2.material.SigmaS[1]\n",
    "        f110 = flux1.moments[0,0]\n",
    "        f120 = flux1.moments[0,5]\n",
    "        f111 = flux1.moments[0,1]\n",
    "        f121 = flux1.moments[0,6]\n",
    "        f112 = flux1.moments[0,2]\n",
    "        f122 = flux1.moments[0,7]\n",
    "    \n",
    "        rhs =  np.array((0, 0, 0, 0, SigmaS1 * f110,  SigmaS1 * f120, SigmaS1 * f111, SigmaS1 * f121, SigmaS1 * f112, SigmaS1 * f122))\n",
    "    return rhs"
   ]
  },
  {
   "cell_type": "code",
   "execution_count": 303,
   "metadata": {},
   "outputs": [],
   "source": [
    "def solve(g, lhs, rhs):\n",
    "    flux1.moments[g,:] = np.linalg.solve(lhs, rhs)"
   ]
  },
  {
   "cell_type": "code",
   "execution_count": 304,
   "metadata": {},
   "outputs": [],
   "source": [
    "def calculate_fission_source():\n",
    "    # get flux values\n",
    "    fast_flux = flux1.moments[0,:]\n",
    "    thermal_flux = flux1.moments[1,:]\n",
    "\n",
    "    # node 1\n",
    "    nuSigmaF1 = node1.material.nuSigmaF[0]\n",
    "    nuSigmaF2 = node1.material.nuSigmaF[1]\n",
    "    for j in range(5): # node 1\n",
    "        fission1.source[j] = nuSigmaF1 * fast_flux[j] + nuSigmaF2 * thermal_flux[j]\n",
    "\n",
    "    # node 2\n",
    "    nuSigmaF1 = node2.material.nuSigmaF[0]\n",
    "    nuSigmaF2 = node2.material.nuSigmaF[1]\n",
    "    for j in range(5,10): \n",
    "        fission1.source[j] = nuSigmaF1 * fast_flux[j] + nuSigmaF2 * thermal_flux[j]\n",
    "\n",
    "    first_coef = np.array((fission1.source[0], fission1.source[5]))\n",
    "    return first_coef"
   ]
  },
  {
   "cell_type": "code",
   "execution_count": 305,
   "metadata": {},
   "outputs": [],
   "source": [
    "def calculate_k(k_old, f_new, f_old):\n",
    "    dx = mesh1.dx\n",
    "    k_new = k_old * (f_new[0]*dx + f_new[1]*dx)/(f_old[0]*dx + f_old[1]*dx)\n",
    "    fission1.k = k_new\n",
    "    return k_new"
   ]
  },
  {
   "cell_type": "code",
   "execution_count": 306,
   "metadata": {},
   "outputs": [],
   "source": [
    "def calculate_flux_functions():\n",
    "    fast_moments = flux1.moments[0,:]\n",
    "    thermal_moments = flux1.moments[1,:]\n",
    "    functions.left_thermal = leg.Legendre((thermal_moments[0], thermal_moments[1], thermal_moments[2], thermal_moments[3], thermal_moments[4]), domain=(0,10))\n",
    "    functions.right_thermal = leg.Legendre((thermal_moments[5], thermal_moments[6], thermal_moments[7], thermal_moments[8], thermal_moments[9]), domain=(10,20))\n",
    "    functions.left_fast = leg.Legendre((fast_moments[0], fast_moments[1], fast_moments[2], fast_moments[3], fast_moments[4]), domain=(0,10))\n",
    "    functions.right_fast = leg.Legendre((fast_moments[5], fast_moments[6], fast_moments[7], fast_moments[8], fast_moments[9]), domain=(10,20))"
   ]
  },
  {
   "cell_type": "code",
   "execution_count": 307,
   "metadata": {},
   "outputs": [],
   "source": [
    "def get_pin_average(left_thermal, right_thermal, left_fast, right_fast):\n",
    "    # get values\n",
    "    hist0 = np.zeros(8)\n",
    "    hist1 = np.zeros(8)\n",
    "    hist2 = np.zeros(8)\n",
    "    hist3 = np.zeros(8)\n",
    "    index = 0\n",
    "    \n",
    "    # loop through all cells\n",
    "    for i in range(8):\n",
    "        \n",
    "        average0 = 0\n",
    "        average1 = 0\n",
    "        average2 = 0\n",
    "        average3 = 0\n",
    "\n",
    "        # calculate source for current cell\n",
    "        for j in range(8):\n",
    "            j += index\n",
    "            average0 += left_thermal[j]\n",
    "            average1 += right_thermal[j]\n",
    "            average2 += left_fast[j]\n",
    "            average3 += right_fast[j]\n",
    "\n",
    "        hist0[i] = average0 / 8\n",
    "        hist1[i] = average1 / 8\n",
    "        hist2[i] = average2 / 8\n",
    "        hist3[i] = average3 / 8\n",
    "        index = j+1\n",
    "        \n",
    "    #hist0 = np.insert(hist0, 0, hist0[0])\n",
    "    #hist1 = np.insert(hist1, 0, hist1[0])\n",
    "    #hist2 = np.insert(hist2, 0, hist2[0])\n",
    "    #hist3 = np.insert(hist3, 0, hist3[0])\n",
    "\n",
    "    return hist0, hist1, hist2, hist3"
   ]
  },
  {
   "cell_type": "code",
   "execution_count": 308,
   "metadata": {},
   "outputs": [],
   "source": [
    "def relative_error(left_thermal_avg, right_thermal_avg, left_fast_avg, right_fast_avg, reference):\n",
    "    reference_new = np.delete(reference, 0, 0)\n",
    "    combined = np.zeros_like(reference_new)\n",
    "    for i in range(8):\n",
    "        combined[i, 0] = left_fast_avg[i]\n",
    "        combined[i, 1] = left_thermal_avg[i]\n",
    "        combined[i+8, 0] = right_fast_avg[i]\n",
    "        combined[i+8, 1] = right_thermal_avg[i]\n",
    "    error = abs((combined - reference_new) / reference_new) * 100\n",
    "    return error"
   ]
  },
  {
   "cell_type": "code",
   "execution_count": 309,
   "metadata": {},
   "outputs": [],
   "source": [
    "def current(left_thermal, right_thermal, left_fast, right_fast):\n",
    "   thermal = np.concatenate((left_thermal, right_thermal))\n",
    "   fast = np.concatenate((left_fast, right_fast))\n",
    "   current = np.zeros((129,2))\n",
    "   for g in range(2):\n",
    "      d1 = -node1.material.D[g]\n",
    "      d2 = -node2.material.D[g]\n",
    "\n",
    "      for i in range(127):\n",
    "         i += 1\n",
    "         if i <= 64:\n",
    "            current[i,0] = d1 * (fast[i-1] - fast[i])\n",
    "            current[i,1] = d1 * (thermal[i-1] - thermal[i])\n",
    "         if i > 64:\n",
    "            current[i,0] = d2 * (fast[i-1] - fast[i])\n",
    "            current[i,1] = d2 * (thermal[i-1] - thermal[i])\n",
    "   return current\n"
   ]
  },
  {
   "attachments": {},
   "cell_type": "markdown",
   "metadata": {},
   "source": [
    "Main loops"
   ]
  },
  {
   "cell_type": "code",
   "execution_count": 310,
   "metadata": {},
   "outputs": [],
   "source": [
    "def power_iteration():\n",
    "    iter = 100\n",
    "    k_old = 1\n",
    "    flux_old = flux1.moments.copy()\n",
    "    f_old = fission1.source.copy()\n",
    "    old_pi_rate = 1\n",
    "    old_k_rate = 1\n",
    "\n",
    "    for i in range(iter):\n",
    "        # iterate through energy groups\n",
    "        for g in range(2):\n",
    "            if g == 0:\n",
    "                lhs_matrix = lhs1.fast\n",
    "            if g == 1:\n",
    "                lhs_matrix = lhs1.thermal\n",
    "            #print(lhs_matrix)\n",
    "            rhs = build_rhs(g)\n",
    "            solve(g, lhs_matrix, rhs)\n",
    "            #print(rhs)\n",
    "            #print(flux.moments)\n",
    "        \n",
    "        flux_new = flux1.moments.copy()\n",
    "        \n",
    "        # calculate fission coefficients and return first coefficient\n",
    "        f_new = calculate_fission_source()\n",
    "\n",
    "        k_new = calculate_k(k_old, f_new, f_old)\n",
    "\n",
    "        new_pi_rate = pi_rate(flux_new, flux_old)\n",
    "        new_k_rate = k_rate(k_new, k_old)\n",
    "\n",
    "        if pi_convergence(flux_new, flux_old, new_pi_rate, old_pi_rate) and k_convergence(k_new, k_old, new_k_rate, old_k_rate):\n",
    "            break\n",
    "        \n",
    "        f_old = f_new.copy()\n",
    "        flux_old = flux_new.copy()\n",
    "        k_old = k_new.copy()\n",
    "        old_pi_rate = new_pi_rate.copy()\n",
    "        old_k_rate = new_k_rate.copy()\n",
    "        \n",
    "        print(\"Power iteration: \", i)\n",
    "    return k_new\n"
   ]
  },
  {
   "cell_type": "code",
   "execution_count": 311,
   "metadata": {},
   "outputs": [],
   "source": [
    "def main_loop():\n",
    "    build_lhs()\n",
    "    k = power_iteration()\n",
    "    calculate_flux_functions()\n",
    "    print(\"k:\", k)"
   ]
  },
  {
   "attachments": {},
   "cell_type": "markdown",
   "metadata": {},
   "source": [
    "Materials, homogenized data"
   ]
  },
  {
   "cell_type": "code",
   "execution_count": 312,
   "metadata": {},
   "outputs": [],
   "source": [
    "a1 = material(np.array([0.0,0.38542026]),\n",
    "              np.array([0.0,0.01495682]),\n",
    "              np.array([0.01495682,0.25694684]),\n",
    "              np.array([1.66666667,0.37627469]),\n",
    "              np.array([0.9956719,1.22608959]),\n",
    "              np.array([0.99567197,1.22608743])\n",
    "              )\n",
    "a2 = material(np.array([0.0,0.21190912]),\n",
    "              np.array([0.0,0.02247835]),\n",
    "              np.array([0.02247835,0.14127275]),\n",
    "              np.array([1.66666667,0.29059016]),\n",
    "              np.array([0.99566395,1.0842443]),\n",
    "              np.array([0.99566395,1.0842443])\n",
    "              )\n",
    "a3 = material(np.array([0.0,0.19134345]),\n",
    "              np.array([0.0,0.02247833]),\n",
    "              np.array([0.02247833,0.1275623]),\n",
    "              np.array([1.66666667,0.2942562]),\n",
    "              np.array([0.99897746,0.98438626]),\n",
    "              np.array([0.9809495,1.334789])\n",
    "              )\n",
    "u1 = material(np.array([0.0,0.14269698]),\n",
    "              np.array([0.0,0.01495638]),\n",
    "              np.array([0.01495682,0.09513132]),\n",
    "              np.array([1.66666667,0.49609889]),\n",
    "              np.array([0.99564336,1.08482132]),\n",
    "              np.array([0.99564336,1.08482089])\n",
    "              )\n",
    "u2 = material(np.array([0.0,0.07352436]),\n",
    "              np.array([0.0,0.02247822]),\n",
    "              np.array([0.02247822,0.04901624]),\n",
    "              np.array([1.66666667,0.31716316]),\n",
    "              np.array([0.99564663,1.02905052]),\n",
    "              np.array([0.99564661,1.02905039])\n",
    "              )"
   ]
  },
  {
   "attachments": {},
   "cell_type": "markdown",
   "metadata": {},
   "source": [
    "Problem 1"
   ]
  },
  {
   "cell_type": "code",
   "execution_count": 313,
   "metadata": {},
   "outputs": [],
   "source": [
    "# initialize classes\n",
    "flux1 = flux()\n",
    "fission1 = fission()\n",
    "lhs1 = lhs()\n",
    "\n",
    "# nodes\n",
    "node1 = cell(0,10,a1)\n",
    "node2 = cell(10,20,u1)\n",
    "\n",
    "# mesh\n",
    "mesh1 = mesh(10)"
   ]
  },
  {
   "cell_type": "code",
   "execution_count": 314,
   "metadata": {},
   "outputs": [
    {
     "name": "stdout",
     "output_type": "stream",
     "text": [
      "Power iteration:  0\n",
      "Power iteration:  1\n",
      "Power iteration:  2\n",
      "Power iteration:  3\n",
      "Power iteration:  4\n",
      "Power iteration:  5\n",
      "Power iteration:  6\n",
      "Power iteration:  7\n",
      "Power iteration:  8\n",
      "Power iteration:  9\n",
      "Power iteration:  10\n",
      "k: 1.5\n"
     ]
    }
   ],
   "source": [
    "main_loop()"
   ]
  },
  {
   "cell_type": "code",
   "execution_count": 315,
   "metadata": {},
   "outputs": [],
   "source": [
    "x1 = np.linspace(0,10,64)\n",
    "x2 = np.linspace(10,20,64)\n",
    "left_thermal = functions.left_thermal(x1)\n",
    "right_thermal = functions.right_thermal(x2)\n",
    "left_fast = functions.left_fast(x1)\n",
    "right_fast = functions.right_fast(x2)\n"
   ]
  },
  {
   "cell_type": "code",
   "execution_count": 316,
   "metadata": {},
   "outputs": [],
   "source": [
    "left_thermal_avg, right_thermal_avg, left_fast_avg, right_fast_avg = get_pin_average(left_thermal, right_thermal, left_fast, right_fast)"
   ]
  },
  {
   "cell_type": "code",
   "execution_count": 317,
   "metadata": {},
   "outputs": [
    {
     "name": "stdout",
     "output_type": "stream",
     "text": [
      "[3.8407494  3.97521156 4.07752931 4.06070607 3.96500064 3.95792723\n",
      " 4.33425545 5.51601032] [ 7.86240132  8.9930271   9.61858404  9.93645706 10.09387054 10.18788831\n",
      " 10.26541364 10.32318926] [67.55360968 67.52325292 67.50015329 67.50395157 67.52555872 67.52715591\n",
      " 67.44219454 67.17539618] [66.78560838 66.44906736 66.26286478 66.16824715 66.12139176 66.09340666\n",
      " 66.07033063 66.05313323]\n"
     ]
    }
   ],
   "source": [
    "print(left_thermal_avg, right_thermal_avg, left_fast_avg, right_fast_avg)"
   ]
  },
  {
   "cell_type": "code",
   "execution_count": 318,
   "metadata": {},
   "outputs": [],
   "source": [
    "a1_reference_averages = np.array([[67.63072741  ,4.1227066 ],\n",
    "                                    [67.63072741,  4.1227066 ],\n",
    "                                    [67.63610324,  4.12605815],\n",
    "                                    [67.64824052,  4.1353884 ],\n",
    "                                    [67.67018665,  4.15820397],\n",
    "                                    [67.7064749 ,  4.21350673],\n",
    "                                    [67.75801846,  4.34951755],\n",
    "                                    [67.78810753,  4.69449928],\n",
    "                                    [67.53526708,  5.64470161],\n",
    "                                    [66.54355728,  7.87908838],\n",
    "                                    [66.04535511,  8.97219604],\n",
    "                                    [65.87336497,  9.58834068],\n",
    "                                    [65.80746453,  9.94970219],\n",
    "                                    [65.78151638, 10.16317415],\n",
    "                                    [65.77192545, 10.28753805],\n",
    "                                    [65.76894821, 10.35590547],\n",
    "                                    [65.76830034, 10.38616749]])"
   ]
  },
  {
   "cell_type": "code",
   "execution_count": 319,
   "metadata": {},
   "outputs": [
    {
     "data": {
      "text/plain": [
       "array([[0.11402765, 6.83912853],\n",
       "       [0.16684924, 3.65594925],\n",
       "       [0.21890773, 1.39912095],\n",
       "       [0.24565483, 2.34471175],\n",
       "       [0.26720662, 5.89784483],\n",
       "       [0.3407162 , 9.00307485],\n",
       "       [0.51028566, 7.67374343],\n",
       "       [0.53286366, 2.27986   ],\n",
       "       [0.36374836, 0.21178918],\n",
       "       [0.61126517, 0.23217351],\n",
       "       [0.59128573, 0.31541806],\n",
       "       [0.54823966, 0.1331209 ],\n",
       "       [0.51667307, 0.68190913],\n",
       "       [0.48878181, 0.96864521],\n",
       "       [0.45824424, 0.87381864],\n",
       "       [0.43308538, 0.60636641]])"
      ]
     },
     "execution_count": 319,
     "metadata": {},
     "output_type": "execute_result"
    }
   ],
   "source": [
    "relative_error(left_thermal_avg, right_thermal_avg, left_fast_avg, right_fast_avg, a1_reference_averages)"
   ]
  },
  {
   "cell_type": "code",
   "execution_count": 320,
   "metadata": {},
   "outputs": [
    {
     "data": {
      "image/png": "[encoded data removed]",
      "text/plain": [
       "<Figure size 640x480 with 1 Axes>"
      ]
     },
     "metadata": {},
     "output_type": "display_data"
    },
    {
     "data": {
      "image/png": "[encoded data removed]",
      "text/plain": [
       "<Figure size 640x480 with 1 Axes>"
      ]
     },
     "metadata": {},
     "output_type": "display_data"
    }
   ],
   "source": [
    "hist1 = np.linspace(0,10,9)\n",
    "hist2 = np.linspace(10,20,9)\n",
    "plt.scatter(x1,left_fast, s=4, label=\"Node 1 Flux\")\n",
    "plt.scatter(x2,right_fast, s=4, label=\"Node 2 Flux\")\n",
    "#plt.step(hist1, left_fast_avg, color='r', label=\"Node 1 Pin Cell Average Flux\")\n",
    "#plt.step(hist2, right_fast_avg,color='r')\n",
    "plt.step(np.linspace(0,20,17), a1_reference_averages[:,0], color=\"r\", where='pre', label=\"Reference Pin-cell Average\")\n",
    "plt.legend()\n",
    "plt.title(\"Fast group flux\")\n",
    "plt.ylabel(\"Flux\")\n",
    "plt.xlabel(\"x\")\n",
    "plt.show()\n",
    "plt.scatter(x1,left_thermal, s=4, label=\"Node 1 Flux\")\n",
    "plt.scatter(x2,right_thermal, s=4, label=\"Node 2 Flux\")\n",
    "#plt.step(hist1, left_thermal_avg,color='r', label=\"Pin Cell Average Flux\")\n",
    "#plt.step(hist2, right_thermal_avg,color='r')\n",
    "plt.step(np.linspace(0,20,17), a1_reference_averages[:,1], color=\"r\", where='pre', label=\"Reference Pin-cell Average\")\n",
    "plt.legend()\n",
    "plt.title(\"Thermal group flux\")\n",
    "plt.ylabel(\"Flux\")\n",
    "plt.xlabel(\"x\")\n",
    "plt.show()"
   ]
  },
  {
   "cell_type": "code",
   "execution_count": 321,
   "metadata": {},
   "outputs": [
    {
     "name": "stdout",
     "output_type": "stream",
     "text": [
      "[[ 0.00000000e+00  0.00000000e+00]\n",
      " [-1.90009623e-04  8.41627229e-04]\n",
      " [-5.34453603e-04  2.36730503e-03]\n",
      " [-8.27514111e-04  3.66538548e-03]\n",
      " [-1.07183038e-03  4.74755876e-03]\n",
      " [-1.27004164e-03  5.62551506e-03]\n",
      " [-1.42478712e-03  6.31094455e-03]\n",
      " [-1.53870605e-03  6.81553742e-03]\n",
      " [-1.61443768e-03  7.15098386e-03]\n",
      " [-1.65462122e-03  7.32897404e-03]\n",
      " [-1.66189592e-03  7.36119815e-03]\n",
      " [-1.63890099e-03  7.25934636e-03]\n",
      " [-1.58827569e-03  7.03510887e-03]\n",
      " [-1.51265923e-03  6.70017585e-03]\n",
      " [-1.41469085e-03  6.26623748e-03]\n",
      " [-1.29700979e-03  5.74498395e-03]\n",
      " [-1.16225526e-03  5.14810545e-03]\n",
      " [-1.01306652e-03  4.48729214e-03]\n",
      " [-8.52082781e-04  3.77423423e-03]\n",
      " [-6.81943283e-04  3.02062188e-03]\n",
      " [-5.05287257e-04  2.23814527e-03]\n",
      " [-3.24753936e-04  1.43849461e-03]\n",
      " [-1.42982551e-04  6.33360051e-04]\n",
      " [ 3.73876653e-05 -1.65568207e-04]\n",
      " [ 2.13717481e-04 -9.46599985e-04]\n",
      " [ 3.83367664e-04 -1.69804510e-03]\n",
      " [ 5.43698983e-04 -2.40821338e-03]\n",
      " [ 6.92072205e-04 -3.06541462e-03]\n",
      " [ 8.25848098e-04 -3.65795866e-03]\n",
      " [ 9.42387430e-04 -4.17415531e-03]\n",
      " [ 1.03905097e-03 -4.60231439e-03]\n",
      " [ 1.11319948e-03 -4.93074571e-03]\n",
      " [ 1.16219374e-03 -5.14775909e-03]\n",
      " [ 1.18339451e-03 -5.24166435e-03]\n",
      " [ 1.17416256e-03 -5.20077131e-03]\n",
      " [ 1.13185865e-03 -5.01338978e-03]\n",
      " [ 1.05384356e-03 -4.66782959e-03]\n",
      " [ 9.37478050e-04 -4.15240055e-03]\n",
      " [ 7.80122891e-04 -3.45541248e-03]\n",
      " [ 5.79138851e-04 -2.56517519e-03]\n",
      " [ 3.31886697e-04 -1.46999851e-03]\n",
      " [ 3.57271980e-05 -1.58192243e-04]\n",
      " [-3.11978879e-04  1.38193378e-03]\n",
      " [-7.13870766e-04  3.16206975e-03]\n",
      " [-1.17258769e-03  5.19390584e-03]\n",
      " [-1.69076890e-03  7.48913224e-03]\n",
      " [-2.27105361e-03  1.00594391e-02]\n",
      " [-2.91608105e-03  1.29165167e-02]\n",
      " [-3.62849047e-03  1.60720551e-02]\n",
      " [-4.41092109e-03  1.95377446e-02]\n",
      " [-5.26601214e-03  2.33252752e-02]\n",
      " [-6.19640286e-03  2.74463373e-02]\n",
      " [-7.20473248e-03  3.19126210e-02]\n",
      " [-8.29364023e-03  3.67358164e-02]\n",
      " [-9.46576534e-03  4.19276138e-02]\n",
      " [-1.07237470e-02  4.74997033e-02]\n",
      " [-1.20702246e-02  5.34637751e-02]\n",
      " [-1.35078372e-02  5.98315194e-02]\n",
      " [-1.50392241e-02  6.66146264e-02]\n",
      " [-1.66670245e-02  7.38247863e-02]\n",
      " [-1.83938776e-02  8.14736892e-02]\n",
      " [-2.02224228e-02  8.95730253e-02]\n",
      " [-2.21552991e-02  9.81344848e-02]\n",
      " [-2.41951459e-02  1.07169758e-01]\n",
      " [ 7.24272728e-04  3.11415638e-01]\n",
      " [-3.23025378e-02  1.08521901e-01]\n",
      " [-3.03780324e-02  1.02056438e-01]\n",
      " [-2.85357731e-02  9.58672845e-02]\n",
      " [-2.67739516e-02  8.99483651e-02]\n",
      " [-2.50907594e-02  8.42936045e-02]\n",
      " [-2.34843882e-02  7.88969274e-02]\n",
      " [-2.19530296e-02  7.37522585e-02]\n",
      " [-2.04948752e-02  6.88535224e-02]\n",
      " [-1.91081166e-02  6.41946438e-02]\n",
      " [-1.77909455e-02  5.97695474e-02]\n",
      " [-1.65415535e-02  5.55721578e-02]\n",
      " [-1.53581321e-02  5.15963997e-02]\n",
      " [-1.42388731e-02  4.78361977e-02]\n",
      " [-1.31819679e-02  4.42854765e-02]\n",
      " [-1.21856083e-02  4.09381607e-02]\n",
      " [-1.12479859e-02  3.77881751e-02]\n",
      " [-1.03672923e-02  3.48294442e-02]\n",
      " [-9.54171900e-03  3.20558928e-02]\n",
      " [-8.76945776e-03  2.94614455e-02]\n",
      " [-8.04870015e-03  2.70400269e-02]\n",
      " [-7.37763779e-03  2.47855617e-02]\n",
      " [-6.75446230e-03  2.26919746e-02]\n",
      " [-6.17736529e-03  2.07531902e-02]\n",
      " [-5.64453839e-03  1.89631332e-02]\n",
      " [-5.15417321e-03  1.73157283e-02]\n",
      " [-4.70446137e-03  1.58049001e-02]\n",
      " [-4.29359449e-03  1.44245732e-02]\n",
      " [-3.91976418e-03  1.31686724e-02]\n",
      " [-3.58116207e-03  1.20311223e-02]\n",
      " [-3.27597977e-03  1.10058475e-02]\n",
      " [-3.00240891e-03  1.00867727e-02]\n",
      " [-2.75864109e-03  9.26782263e-03]\n",
      " [-2.54286794e-03  8.54292186e-03]\n",
      " [-2.35328108e-03  7.90599508e-03]\n",
      " [-2.18807212e-03  7.35096694e-03]\n",
      " [-2.04543268e-03  6.87176212e-03]\n",
      " [-1.92355438e-03  6.46230527e-03]\n",
      " [-1.82062884e-03  6.11652104e-03]\n",
      " [-1.73484767e-03  5.82833410e-03]\n",
      " [-1.66440250e-03  5.59166911e-03]\n",
      " [-1.60748495e-03  5.40045073e-03]\n",
      " [-1.56228662e-03  5.24860361e-03]\n",
      " [-1.52699914e-03  5.13005243e-03]\n",
      " [-1.49981413e-03  5.03872183e-03]\n",
      " [-1.47892320e-03  4.96853647e-03]\n",
      " [-1.46251798e-03  4.91342103e-03]\n",
      " [-1.44879008e-03  4.86730015e-03]\n",
      " [-1.43593111e-03  4.82409849e-03]\n",
      " [-1.42213271e-03  4.77774073e-03]\n",
      " [-1.40558648e-03  4.72215150e-03]\n",
      " [-1.38448404e-03  4.65125549e-03]\n",
      " [-1.35701701e-03  4.55897734e-03]\n",
      " [-1.32137702e-03  4.43924171e-03]\n",
      " [-1.27575567e-03  4.28597327e-03]\n",
      " [-1.21834459e-03  4.09309668e-03]\n",
      " [-1.14733540e-03  3.85453659e-03]\n",
      " [-1.06091970e-03  3.56421766e-03]\n",
      " [-9.57289129e-04  3.21606456e-03]\n",
      " [-8.34635294e-04  2.80400194e-03]\n",
      " [-6.91149817e-04  2.32195446e-03]\n",
      " [-5.25024315e-04  1.76384679e-03]\n",
      " [-3.34450405e-04  1.12360359e-03]\n",
      " [-1.17619707e-04  3.95149503e-04]\n",
      " [ 0.00000000e+00  0.00000000e+00]]\n"
     ]
    }
   ],
   "source": [
    "print(current(left_thermal, right_thermal, left_fast, right_fast))"
   ]
  },
  {
   "attachments": {},
   "cell_type": "markdown",
   "metadata": {},
   "source": [
    "Problem 2"
   ]
  },
  {
   "cell_type": "code",
   "execution_count": 322,
   "metadata": {},
   "outputs": [],
   "source": [
    "# initialize classes\n",
    "flux1 = flux()\n",
    "fission1 = fission()\n",
    "lhs1 = lhs()\n",
    "\n",
    "# nodes\n",
    "node1 = cell(0,10,a2)\n",
    "node2 = cell(10,20,u2)\n",
    "\n",
    "# mesh\n",
    "mesh1 = mesh(10)"
   ]
  },
  {
   "cell_type": "code",
   "execution_count": 323,
   "metadata": {},
   "outputs": [
    {
     "name": "stdout",
     "output_type": "stream",
     "text": [
      "Power iteration:  0\n",
      "Power iteration:  1\n",
      "Power iteration:  2\n",
      "Power iteration:  3\n",
      "Power iteration:  4\n",
      "Power iteration:  5\n",
      "Power iteration:  6\n",
      "Power iteration:  7\n",
      "Power iteration:  8\n",
      "Power iteration:  9\n",
      "Power iteration:  10\n",
      "Power iteration:  11\n",
      "Power iteration:  12\n",
      "k: 1.5000042322227407\n"
     ]
    }
   ],
   "source": [
    "main_loop()"
   ]
  },
  {
   "cell_type": "code",
   "execution_count": 324,
   "metadata": {},
   "outputs": [],
   "source": [
    "x1 = np.linspace(0,10,64)\n",
    "x2 = np.linspace(10,20,64)\n",
    "left_fast = functions.left_fast(x1)\n",
    "right_fast = functions.right_fast(x2)\n",
    "left_thermal = functions.left_thermal(x1)\n",
    "right_thermal = functions.right_thermal(x2)"
   ]
  },
  {
   "cell_type": "code",
   "execution_count": 325,
   "metadata": {},
   "outputs": [],
   "source": [
    "left_thermal_avg, right_thermal_avg, left_fast_avg, right_fast_avg = get_pin_average(left_thermal, right_thermal, left_fast, right_fast)"
   ]
  },
  {
   "cell_type": "code",
   "execution_count": 277,
   "metadata": {},
   "outputs": [],
   "source": [
    "a2_reference_averages = np.array([[45.52626187,  7.39610378],\n",
    "                                  [45.52626187,  7.39610378],\n",
    "                                  [45.53309566,  7.40662806],\n",
    "                                  [45.54817388,  7.43462702],\n",
    "                                  [45.57428883,  7.4989675 ],\n",
    "                                  [45.61439073,  7.64408391],\n",
    "                                  [45.6633371 ,  7.97296139],\n",
    "                                  [45.66546839,  8.72875724],\n",
    "                                  [45.31190233, 10.54486908],\n",
    "                                  [44.11991045, 14.1225771 ],\n",
    "                                  [43.51004085, 16.40553349],\n",
    "                                  [43.28715688, 17.759332  ],\n",
    "                                  [43.19582216, 18.58014531],\n",
    "                                  [43.15661703, 19.07686491],\n",
    "                                  [43.14009274, 19.37167534],\n",
    "                                  [43.13364212, 19.53604023],\n",
    "                                  [43.13155514, 19.60945802]])"
   ]
  },
  {
   "cell_type": "code",
   "execution_count": 278,
   "metadata": {},
   "outputs": [
    {
     "data": {
      "text/plain": [
       "array([[0.06603104, 3.63376999],\n",
       "       [0.1535421 , 1.21373263],\n",
       "       [0.24367798, 0.42046693],\n",
       "       [0.30155704, 0.41549142],\n",
       "       [0.36548903, 3.11690621],\n",
       "       [0.52867441, 5.25996199],\n",
       "       [0.84692984, 4.05188177],\n",
       "       [0.90030957, 0.19209984],\n",
       "       [0.58956167, 0.53305137],\n",
       "       [0.9435225 , 0.34306812],\n",
       "       [0.84435515, 0.62188124],\n",
       "       [0.71686563, 0.33963026],\n",
       "       [0.6234755 , 0.07477088],\n",
       "       [0.55005164, 0.28497138],\n",
       "       [0.48334501, 0.17534231],\n",
       "       [0.43440291, 0.0728752 ]])"
      ]
     },
     "execution_count": 278,
     "metadata": {},
     "output_type": "execute_result"
    }
   ],
   "source": [
    "relative_error(left_thermal_avg, right_thermal_avg, left_fast_avg, right_fast_avg, a2_reference_averages)"
   ]
  },
  {
   "cell_type": "code",
   "execution_count": 279,
   "metadata": {},
   "outputs": [
    {
     "data": {
      "image/png": "[encoded data removed]",
      "text/plain": [
       "<Figure size 640x480 with 1 Axes>"
      ]
     },
     "metadata": {},
     "output_type": "display_data"
    },
    {
     "data": {
      "image/png": "[encoded data removed]",
      "text/plain": [
       "<Figure size 640x480 with 1 Axes>"
      ]
     },
     "metadata": {},
     "output_type": "display_data"
    }
   ],
   "source": [
    "hist1 = np.linspace(0,10,9)\n",
    "hist2 = np.linspace(10,20,9)\n",
    "plt.scatter(x1,left_fast, s=4, label=\"Node 1 Flux\")\n",
    "plt.scatter(x2,right_fast, s=4, label=\"Node 2 Flux\")\n",
    "#plt.step(hist1, left_fast_avg, color='r', label=\"Node 1 Pin Cell Average Flux\")\n",
    "#plt.step(hist2, right_fast_avg,color='r')\n",
    "plt.step(np.linspace(0,20,17), a2_reference_averages[:,0], color=\"r\", where='pre', label=\"Reference Pin-cell Average\")\n",
    "plt.legend()\n",
    "plt.title(\"Fast group flux\")\n",
    "plt.ylabel(\"Flux\")\n",
    "plt.xlabel(\"x\")\n",
    "plt.show()\n",
    "plt.scatter(x1,left_thermal, s=4, label=\"Node 1 Flux\")\n",
    "plt.scatter(x2,right_thermal, s=4, label=\"Node 2 Flux\")\n",
    "#plt.step(hist1, left_thermal_avg,color='r', label=\"Pin Cell Average Flux\")\n",
    "#plt.step(hist2, right_thermal_avg,color='r')\n",
    "plt.step(np.linspace(0,20,17), a2_reference_averages[:,1], color=\"r\", where='pre', label=\"Reference Pin-cell Average\")\n",
    "plt.legend()\n",
    "plt.title(\"Thermal group flux\")\n",
    "plt.ylabel(\"Flux\")\n",
    "plt.xlabel(\"x\")\n",
    "plt.show()"
   ]
  },
  {
   "cell_type": "code",
   "execution_count": 280,
   "metadata": {},
   "outputs": [
    {
     "name": "stdout",
     "output_type": "stream",
     "text": [
      "[[ 0.00000000e+00  0.00000000e+00]\n",
      " [-1.59824314e-04  9.16705774e-04]\n",
      " [-4.49263479e-04  2.57685183e-03]\n",
      " [-6.95154152e-04  3.98722680e-03]\n",
      " [-8.99850608e-04  5.16133354e-03]\n",
      " [-1.06570712e-03  6.11267494e-03]\n",
      " [-1.19507797e-03  6.85475384e-03]\n",
      " [-1.29031742e-03  7.40107314e-03]\n",
      " [-1.35377974e-03  7.76513568e-03]\n",
      " [-1.38781923e-03  7.96044435e-03]\n",
      " [-1.39479014e-03  8.00050200e-03]\n",
      " [-1.37704675e-03  7.89881151e-03]\n",
      " [-1.33694334e-03  7.66887575e-03]\n",
      " [-1.27683418e-03  7.32419757e-03]\n",
      " [-1.19907355e-03  6.87827986e-03]\n",
      " [-1.10601571e-03  6.34462548e-03]\n",
      " [-1.00001495e-03  5.73673729e-03]\n",
      " [-8.83425530e-04  5.06811817e-03]\n",
      " [-7.58601735e-04  4.35227098e-03]\n",
      " [-6.27897835e-04  3.60269859e-03]\n",
      " [-4.93668105e-04  2.83290387e-03]\n",
      " [-3.58266819e-04  2.05638969e-03]\n",
      " [-2.24048250e-04  1.28665891e-03]\n",
      " [-9.33666736e-05  5.37214411e-04]\n",
      " [ 3.14236366e-05 -1.78440951e-04]\n",
      " [ 1.47968406e-04 -8.46804303e-04]\n",
      " [ 2.53913362e-04 -1.45437278e-03]\n",
      " [ 3.46904228e-04 -1.98764351e-03]\n",
      " [ 4.24586732e-04 -2.43311362e-03]\n",
      " [ 4.84606598e-04 -2.77728025e-03]\n",
      " [ 5.24609553e-04 -3.00664054e-03]\n",
      " [ 5.42241323e-04 -3.10769160e-03]\n",
      " [ 5.35147633e-04 -3.06693058e-03]\n",
      " [ 5.00974210e-04 -2.87085460e-03]\n",
      " [ 4.37366778e-04 -2.50596080e-03]\n",
      " [ 3.41971065e-04 -1.95874632e-03]\n",
      " [ 2.12432795e-04 -1.21570827e-03]\n",
      " [ 4.63976954e-05 -2.63343793e-04]\n",
      " [-1.58488509e-04  9.11849976e-04]\n",
      " [-4.04580092e-04  2.32337591e-03]\n",
      " [-6.94231329e-04  3.98473687e-03]\n",
      " [-1.02979649e-03  5.90943573e-03]\n",
      " [-1.41362986e-03  8.11097536e-03]\n",
      " [-1.84808570e-03  1.06028586e-02]\n",
      " [-2.33551829e-03  1.33985884e-02]\n",
      " [-2.87828190e-03  1.65116675e-02]\n",
      " [-3.47873081e-03  1.99555989e-02]\n",
      " [-4.13921929e-03  2.37438854e-02]\n",
      " [-4.86210162e-03  2.78900299e-02]\n",
      " [-5.64973207e-03  3.24075352e-02]\n",
      " [-6.50446492e-03  3.73099042e-02]\n",
      " [-7.42865443e-03  4.26106398e-02]\n",
      " [-8.42465488e-03  4.83232448e-02]\n",
      " [-9.49482056e-03  5.44612222e-02]\n",
      " [-1.06415057e-02  6.10380747e-02]\n",
      " [-1.18670646e-02  6.80673053e-02]\n",
      " [-1.31738516e-02  7.55624169e-02]\n",
      " [-1.45642209e-02  8.35369122e-02]\n",
      " [-1.60405268e-02  9.20042941e-02]\n",
      " [-1.76051235e-02  1.00978066e-01]\n",
      " [-1.92603654e-02  1.10471730e-01]\n",
      " [-2.10086066e-02  1.20498789e-01]\n",
      " [-2.28522016e-02  1.31072746e-01]\n",
      " [-2.47935045e-02  1.42207104e-01]\n",
      " [ 2.25703002e-04  1.86809820e-01]\n",
      " [-2.73698899e-02  1.43831638e-01]\n",
      " [-2.58395046e-02  1.35789490e-01]\n",
      " [-2.43719010e-02  1.28077256e-01]\n",
      " [-2.29657277e-02  1.20687834e-01]\n",
      " [-2.16196333e-02  1.13614122e-01]\n",
      " [-2.03322661e-02  1.06849018e-01]\n",
      " [-1.91022748e-02  1.00385420e-01]\n",
      " [-1.79283078e-02  9.42162272e-02]\n",
      " [-1.68090138e-02  8.83343364e-02]\n",
      " [-1.57430411e-02  8.27326462e-02]\n",
      " [-1.47290384e-02  7.74040544e-02]\n",
      " [-1.37656542e-02  7.23414594e-02]\n",
      " [-1.28515369e-02  6.75377590e-02]\n",
      " [-1.19853351e-02  6.29858513e-02]\n",
      " [-1.11656974e-02  5.86786345e-02]\n",
      " [-1.03912721e-02  5.46090067e-02]\n",
      " [-9.66070798e-03  5.07698657e-02]\n",
      " [-8.97265340e-03  4.71541099e-02]\n",
      " [-8.32575693e-03  4.37546371e-02]\n",
      " [-7.71866709e-03  4.05643455e-02]\n",
      " [-7.15003239e-03  3.75761332e-02]\n",
      " [-6.61850136e-03  3.47828982e-02]\n",
      " [-6.12272253e-03  3.21775386e-02]\n",
      " [-5.66134440e-03  2.97529524e-02]\n",
      " [-5.23301551e-03  2.75020378e-02]\n",
      " [-4.83638438e-03  2.54176927e-02]\n",
      " [-4.47009952e-03  2.34928153e-02]\n",
      " [-4.13280946e-03  2.17203037e-02]\n",
      " [-3.82316272e-03  2.00930559e-02]\n",
      " [-3.53980782e-03  1.86039699e-02]\n",
      " [-3.28139328e-03  1.72459439e-02]\n",
      " [-3.04656762e-03  1.60118759e-02]\n",
      " [-2.83397938e-03  1.48946639e-02]\n",
      " [-2.64227706e-03  1.38872062e-02]\n",
      " [-2.47010918e-03  1.29824006e-02]\n",
      " [-2.31612428e-03  1.21731453e-02]\n",
      " [-2.17897087e-03  1.14523384e-02]\n",
      " [-2.05729747e-03  1.08128779e-02]\n",
      " [-1.94975261e-03  1.02476619e-02]\n",
      " [-1.85498480e-03  9.74958847e-03]\n",
      " [-1.77164257e-03  9.31155567e-03]\n",
      " [-1.69837443e-03  8.92646157e-03]\n",
      " [-1.63382892e-03  8.58720425e-03]\n",
      " [-1.57665455e-03  8.28668176e-03]\n",
      " [-1.52549984e-03  8.01779219e-03]\n",
      " [-1.47901332e-03  7.77343360e-03]\n",
      " [-1.43584350e-03  7.54650405e-03]\n",
      " [-1.39463892e-03  7.32990163e-03]\n",
      " [-1.35404808e-03  7.11652439e-03]\n",
      " [-1.31271951e-03  6.89927041e-03]\n",
      " [-1.26930173e-03  6.67103775e-03]\n",
      " [-1.22244326e-03  6.42472449e-03]\n",
      " [-1.17079264e-03  6.15322869e-03]\n",
      " [-1.11299836e-03  5.84944842e-03]\n",
      " [-1.04770897e-03  5.50628176e-03]\n",
      " [-9.73572971e-04  5.11662677e-03]\n",
      " [-8.89238896e-04  4.67338152e-03]\n",
      " [-7.93355264e-04  4.16944408e-03]\n",
      " [-6.84570595e-04  3.59771251e-03]\n",
      " [-5.61533411e-04  2.95108490e-03]\n",
      " [-4.22892234e-04  2.22245930e-03]\n",
      " [-2.67295585e-04  1.40473379e-03]\n",
      " [-9.33919860e-05  4.90806441e-04]\n",
      " [ 0.00000000e+00  0.00000000e+00]]\n"
     ]
    }
   ],
   "source": [
    "print(current(left_thermal, right_thermal, left_fast, right_fast))"
   ]
  },
  {
   "attachments": {},
   "cell_type": "markdown",
   "metadata": {},
   "source": [
    "Problem 3"
   ]
  },
  {
   "cell_type": "code",
   "execution_count": 281,
   "metadata": {},
   "outputs": [],
   "source": [
    "# initialize classes\n",
    "flux1 = flux()\n",
    "fission1 = fission()\n",
    "lhs1 = lhs()\n",
    "\n",
    "# nodes\n",
    "node1 = cell(0,10,a3)\n",
    "node2 = cell(10,20,u2)\n",
    "\n",
    "# mesh\n",
    "mesh1 = mesh(10)"
   ]
  },
  {
   "cell_type": "code",
   "execution_count": 282,
   "metadata": {},
   "outputs": [
    {
     "name": "stdout",
     "output_type": "stream",
     "text": [
      "Power iteration:  0\n",
      "Power iteration:  1\n",
      "Power iteration:  2\n",
      "Power iteration:  3\n",
      "Power iteration:  4\n",
      "Power iteration:  5\n",
      "Power iteration:  6\n",
      "Power iteration:  7\n",
      "Power iteration:  8\n",
      "Power iteration:  9\n",
      "Power iteration:  10\n",
      "Power iteration:  11\n",
      "Power iteration:  12\n",
      "k: 1.500003591702666\n"
     ]
    }
   ],
   "source": [
    "main_loop()"
   ]
  },
  {
   "cell_type": "code",
   "execution_count": 283,
   "metadata": {},
   "outputs": [],
   "source": [
    "x1 = np.linspace(0,10,64)\n",
    "x2 = np.linspace(10,20,64)\n",
    "left_fast = functions.left_fast(x1)\n",
    "right_fast = functions.right_fast(x2)\n",
    "left_thermal = functions.left_thermal(x1)\n",
    "right_thermal = functions.right_thermal(x2)\n"
   ]
  },
  {
   "cell_type": "code",
   "execution_count": 284,
   "metadata": {},
   "outputs": [],
   "source": [
    "left_thermal_avg, right_thermal_avg, left_fast_avg, right_fast_avg = get_pin_average(left_thermal, right_thermal, left_fast, right_fast)"
   ]
  },
  {
   "cell_type": "code",
   "execution_count": 285,
   "metadata": {},
   "outputs": [],
   "source": [
    "a3_reference_averages = np.array([[45.66683405,  7.43817495],\n",
    "                                  [45.66683405,  7.43817495],\n",
    "                                  [45.67732664,  7.46293862],\n",
    "                                  [45.69975655,  7.52950616],\n",
    "                                  [45.7344616 ,  7.68451349],\n",
    "                                  [45.76675452,  8.03998528],\n",
    "                                  [45.69890389,  8.87504648],\n",
    "                                  [45.29128284, 10.66461325],\n",
    "                                  [44.62118806, 13.12008786],\n",
    "                                  [43.84326888, 15.75845225],\n",
    "                                  [43.4785429 , 17.40555625],\n",
    "                                  [43.34110096, 18.39193932],\n",
    "                                  [43.28447489, 18.99170523],\n",
    "                                  [43.26079522, 19.35523814],\n",
    "                                  [43.25145347, 19.57126046],\n",
    "                                  [43.24823931, 19.69181277],\n",
    "                                  [43.24738733, 19.74569646]])"
   ]
  },
  {
   "cell_type": "code",
   "execution_count": 286,
   "metadata": {},
   "outputs": [
    {
     "data": {
      "text/plain": [
       "array([[ 0.28426329,  7.00954032],\n",
       "       [ 0.35409232,  8.28131781],\n",
       "       [ 0.44100841,  8.63101629],\n",
       "       [ 0.52105502,  6.59191991],\n",
       "       [ 0.58551963,  1.69519152],\n",
       "       [ 0.49310303,  6.26309911],\n",
       "       [ 0.16518197, 16.28425018],\n",
       "       [ 1.07327587, 20.4679066 ],\n",
       "       [ 0.52015971,  0.4476053 ],\n",
       "       [ 0.62900252,  0.58268353],\n",
       "       [ 0.51853082,  0.50841549],\n",
       "       [ 0.41373722,  0.16467324],\n",
       "       [ 0.34052652,  0.21093261],\n",
       "       [ 0.28458998,  0.41090436],\n",
       "       [ 0.23538689,  0.36657936],\n",
       "       [ 0.20007102,  0.20921274]])"
      ]
     },
     "execution_count": 286,
     "metadata": {},
     "output_type": "execute_result"
    }
   ],
   "source": [
    "relative_error(left_thermal_avg, right_thermal_avg, left_fast_avg, right_fast_avg, a3_reference_averages)"
   ]
  },
  {
   "cell_type": "code",
   "execution_count": 287,
   "metadata": {},
   "outputs": [
    {
     "data": {
      "image/png": "[encoded data removed]",
      "text/plain": [
       "<Figure size 640x480 with 1 Axes>"
      ]
     },
     "metadata": {},
     "output_type": "display_data"
    },
    {
     "data": {
      "image/png": "[encoded data removed]",
      "text/plain": [
       "<Figure size 640x480 with 1 Axes>"
      ]
     },
     "metadata": {},
     "output_type": "display_data"
    }
   ],
   "source": [
    "hist1 = np.linspace(0,10,9)\n",
    "hist2 = np.linspace(10,20,9)\n",
    "plt.scatter(x1,left_fast, s=4, label=\"Node 1 Flux\")\n",
    "plt.scatter(x2,right_fast, s=4, label=\"Node 2 Flux\")\n",
    "#plt.step(hist1, left_fast_avg, color='r', label=\"Node 1 Pin Cell Average Flux\")\n",
    "#plt.step(hist2, right_fast_avg,color='r')\n",
    "plt.step(np.linspace(0,20,17), a3_reference_averages[:,0], color=\"r\", where='pre', label=\"Reference Pin-cell Average\")\n",
    "plt.legend()\n",
    "plt.title(\"Fast group flux\")\n",
    "plt.ylabel(\"Flux\")\n",
    "plt.xlabel(\"x\")\n",
    "plt.show()\n",
    "plt.scatter(x1,left_thermal, s=4, label=\"Node 1 Flux\")\n",
    "plt.scatter(x2,right_thermal, s=4, label=\"Node 2 Flux\")\n",
    "#plt.step(hist1, left_thermal_avg,color='r', label=\"Pin Cell Average Flux\")\n",
    "#plt.step(hist2, right_thermal_avg,color='r')\n",
    "plt.step(np.linspace(0,20,17), a3_reference_averages[:,1], color=\"r\", where='pre', label=\"Reference Pin-cell Average\")\n",
    "plt.legend()\n",
    "plt.title(\"Thermal group flux\")\n",
    "plt.ylabel(\"Flux\")\n",
    "plt.xlabel(\"x\")\n",
    "plt.show()"
   ]
  },
  {
   "cell_type": "code",
   "execution_count": 288,
   "metadata": {},
   "outputs": [
    {
     "name": "stdout",
     "output_type": "stream",
     "text": [
      "[[ 0.00000000e+00  0.00000000e+00]\n",
      " [-1.04646425e-04  5.92750856e-04]\n",
      " [-2.94169136e-04  1.66627427e-03]\n",
      " [-4.55215781e-04  2.57850892e-03]\n",
      " [-5.89358548e-04  3.33835967e-03]\n",
      " [-6.98169624e-04  3.95473143e-03]\n",
      " [-7.83221197e-04  4.43652908e-03]\n",
      " [-8.46085454e-04  4.79265750e-03]\n",
      " [-8.88334583e-04  5.03202158e-03]\n",
      " [-9.11540772e-04  5.16352621e-03]\n",
      " [-9.17276208e-04  5.19607628e-03]\n",
      " [-9.07113079e-04  5.13857667e-03]\n",
      " [-8.82623573e-04  4.99993227e-03]\n",
      " [-8.45379877e-04  4.78904798e-03]\n",
      " [-7.96954178e-04  4.51482867e-03]\n",
      " [-7.38918665e-04  4.18617923e-03]\n",
      " [-6.72845524e-04  3.81200455e-03]\n",
      " [-6.00306945e-04  3.40120952e-03]\n",
      " [-5.22875113e-04  2.96269903e-03]\n",
      " [-4.42122218e-04  2.50537796e-03]\n",
      " [-3.59620446e-04  2.03815120e-03]\n",
      " [-2.76941985e-04  1.56992364e-03]\n",
      " [-1.95659022e-04  1.10960016e-03]\n",
      " [-1.17343746e-04  6.66085657e-04]\n",
      " [-4.35683442e-05  2.48285011e-04]\n",
      " [ 2.40949962e-05 -1.34896888e-04]\n",
      " [ 8.40740876e-05 -4.74555153e-04]\n",
      " [ 1.34796742e-04 -7.61784896e-04]\n",
      " [ 1.74690772e-04 -9.87681231e-04]\n",
      " [ 2.02183990e-04 -1.14333927e-03]\n",
      " [ 2.15704209e-04 -1.21985412e-03]\n",
      " [ 2.13679240e-04 -1.20832091e-03]\n",
      " [ 1.94536896e-04 -1.09983474e-03]\n",
      " [ 1.56704989e-04 -8.85490716e-04]\n",
      " [ 9.86113329e-05 -5.56383965e-04]\n",
      " [ 1.86837386e-05 -1.03609593e-04]\n",
      " [-8.46499811e-05  4.81737286e-04]\n",
      " [-2.12962014e-04  1.20856156e-03]\n",
      " [-3.67824547e-04  2.08576812e-03]\n",
      " [-5.50809769e-04  3.12226184e-03]\n",
      " [-7.63489866e-04  4.32694762e-03]\n",
      " [-1.00743703e-03  5.70873035e-03]\n",
      " [-1.28422344e-03  7.27651491e-03]\n",
      " [-1.59542129e-03  9.03920618e-03]\n",
      " [-1.94260277e-03  1.10057091e-02]\n",
      " [-2.32734006e-03  1.31849284e-02]\n",
      " [-2.75120535e-03  1.55857692e-02]\n",
      " [-3.21577083e-03  1.82171362e-02]\n",
      " [-3.72260869e-03  2.10879344e-02]\n",
      " [-4.27329111e-03  2.42070686e-02]\n",
      " [-4.86939029e-03  2.75834438e-02]\n",
      " [-5.51247840e-03  3.12259647e-02]\n",
      " [-6.20412765e-03  3.51435364e-02]\n",
      " [-6.94591020e-03  3.93450637e-02]\n",
      " [-7.73939826e-03  4.38394514e-02]\n",
      " [-8.58616401e-03  4.86356045e-02]\n",
      " [-9.48777964e-03  5.37424279e-02]\n",
      " [-1.04458173e-02  5.91688264e-02]\n",
      " [-1.14618493e-02  6.49237049e-02]\n",
      " [-1.25374477e-02  7.10159684e-02]\n",
      " [-1.36741847e-02  7.74545216e-02]\n",
      " [-1.48736325e-02  8.42482696e-02]\n",
      " [-1.61373633e-02  9.14061171e-02]\n",
      " [-1.74669494e-02  9.89369691e-02]\n",
      " [-1.95124794e-01  1.00043009e+00]\n",
      " [-1.90207748e-02  9.99568239e-02]\n",
      " [-1.79572246e-02  9.43678780e-02]\n",
      " [-1.69373051e-02  8.90082079e-02]\n",
      " [-1.59600769e-02  8.38728783e-02]\n",
      " [-1.50246010e-02  7.89569536e-02]\n",
      " [-1.41299380e-02  7.42554982e-02]\n",
      " [-1.32751488e-02  6.97635767e-02]\n",
      " [-1.24592941e-02  6.54762534e-02]\n",
      " [-1.16814347e-02  6.13885929e-02]\n",
      " [-1.09406315e-02  5.74956596e-02]\n",
      " [-1.02359451e-02  5.37925180e-02]\n",
      " [-9.56643631e-03  5.02742325e-02]\n",
      " [-8.93116599e-03  4.69358676e-02]\n",
      " [-8.32919489e-03  4.37724879e-02]\n",
      " [-7.75958379e-03  4.07791576e-02]\n",
      " [-7.22139346e-03  3.79509414e-02]\n",
      " [-6.71368469e-03  3.52829036e-02]\n",
      " [-6.23551826e-03  3.27701088e-02]\n",
      " [-5.78595494e-03  3.04076214e-02]\n",
      " [-5.36405552e-03  2.81905058e-02]\n",
      " [-4.96888078e-03  2.61138266e-02]\n",
      " [-4.59949150e-03  2.41726482e-02]\n",
      " [-4.25494846e-03  2.23620350e-02]\n",
      " [-3.93431244e-03  2.06770516e-02]\n",
      " [-3.63664422e-03  1.91127624e-02]\n",
      " [-3.36100458e-03  1.76642318e-02]\n",
      " [-3.10645430e-03  1.63265244e-02]\n",
      " [-2.87205416e-03  1.50947046e-02]\n",
      " [-2.65686494e-03  1.39638368e-02]\n",
      " [-2.45994743e-03  1.29289855e-02]\n",
      " [-2.28036240e-03  1.19852153e-02]\n",
      " [-2.11717063e-03  1.11275905e-02]\n",
      " [-1.96943291e-03  1.03511756e-02]\n",
      " [-1.83621001e-03  9.65103504e-03]\n",
      " [-1.71656271e-03  9.02223338e-03]\n",
      " [-1.60955180e-03  8.45983504e-03]\n",
      " [-1.51423806e-03  7.95890448e-03]\n",
      " [-1.42968226e-03  7.51450616e-03]\n",
      " [-1.35494518e-03  7.12170455e-03]\n",
      " [-1.28908762e-03  6.77556413e-03]\n",
      " [-1.23117034e-03  6.47114934e-03]\n",
      " [-1.18025413e-03  6.20352467e-03]\n",
      " [-1.13539976e-03  5.96775456e-03]\n",
      " [-1.09566803e-03  5.75890350e-03]\n",
      " [-1.06011970e-03  5.57203594e-03]\n",
      " [-1.02781556e-03  5.40221635e-03]\n",
      " [-9.97816395e-04  5.24450920e-03]\n",
      " [-9.69182978e-04  5.09397894e-03]\n",
      " [-9.40976090e-04  4.94569006e-03]\n",
      " [-9.12256514e-04  4.79470700e-03]\n",
      " [-8.82085029e-04  4.63609424e-03]\n",
      " [-8.49522416e-04  4.46491625e-03]\n",
      " [-8.13629455e-04  4.27623748e-03]\n",
      " [-7.73466926e-04  4.06512240e-03]\n",
      " [-7.28095611e-04  3.82663549e-03]\n",
      " [-6.76576289e-04  3.55584119e-03]\n",
      " [-6.17969741e-04  3.24780399e-03]\n",
      " [-5.51336748e-04  2.89758834e-03]\n",
      " [-4.75738089e-04  2.50025871e-03]\n",
      " [-3.90234545e-04  2.05087957e-03]\n",
      " [-2.93886898e-04  1.54451537e-03]\n",
      " [-1.85755926e-04  9.76230598e-04]\n",
      " [-6.49024104e-05  3.41089704e-04]\n",
      " [ 0.00000000e+00  0.00000000e+00]]\n"
     ]
    }
   ],
   "source": [
    "print(current(left_thermal, right_thermal, left_fast, right_fast))"
   ]
  },
  {
   "attachments": {},
   "cell_type": "markdown",
   "metadata": {},
   "source": []
  }
 ],
 "metadata": {
  "kernelspec": {
   "display_name": "Python 3",
   "language": "python",
   "name": "python3"
  },
  "language_info": {
   "codemirror_mode": {
    "name": "ipython",
    "version": 3
   },
   "file_extension": ".py",
   "mimetype": "text/x-python",
   "name": "python",
   "nbconvert_exporter": "python",
   "pygments_lexer": "ipython3",
   "version": "3.9.5"
  },
  "orig_nbformat": 4
 },
 "nbformat": 4,
 "nbformat_minor": 2
}
